{
 "cells": [
  {
   "cell_type": "markdown",
   "metadata": {},
   "source": [
    "# Dependency injection\n",
    "\n",
    "Dependency injection (DI) is one of the ways to implement the dependency injection principle. Dependency injection in practice means that the external types the class depends on are passed in from external source, instead of being create in the class itself.\n",
    "\n",
    "Implementing DI helps by making the code more configurable, because only the type that is being injected can be changed in a single place, instead of the concrete instantiation everywhere.\n",
    "\n",
    "Another way where DI is helpful is in testing. DI makes the code more configurable so it is easier to pass fake class implementations to isolate the type under testing."
   ]
  },
  {
   "cell_type": "markdown",
   "metadata": {},
   "source": [
    "Let's say there is an interface `IStudentRepository` like this:\n",
    "\n",
    "```csharp\n",
    "interface IStudentRepository\n",
    "{\n",
    "    Task SaveStudentAsync(Student student);\n",
    "    Task<List<Student>> GetStudentsAsync();\n",
    "}\n",
    "```\n",
    "\n",
    "The interface does not specify how or where the students are stored, interface just deals with what it can do - store and retrieve the students. There are multiple legit ways how to interface can be implemented, so there are multiple possible classes to use in place of this interface.\n",
    "\n",
    "For this example let's say there is a class `FileStudentRepository` which implements the interface `IStudentRepository` and saves as well as retrieves students from a file.\n",
    "\n",
    "The class `StudentsController` then access `IStudentRepository` like this:\n",
    "\n",
    "```csharp\n",
    "public class StudentsController : ControllerBase\n",
    "{\n",
    "    private readonly IStudentRepository _repository;\n",
    "\n",
    "    public StudentsController()\n",
    "    {\n",
    "        _repository = new FileStudentRepository();\n",
    "    }\n",
    "\n",
    "    public async Task SaveStudent(StudentDto dto)\n",
    "    {\n",
    "        await _repository.SaveStudentAsync(new Student(dto));\n",
    "    } \n",
    "}\n",
    "```\n",
    "\n",
    "This would work pretty well if this were the only place where `IStudentRepository` is used, if we were certain that the class implementing the interface would not have to be swapped and if there was never a need to instantiate the `StudentsController` class with different kind of dependencies.\n",
    "\n",
    "To do the dependency injection, the dependency of `IStudentRepository` should be obtained externally, it could be via constructor or property injection. This notebook will focus on constructor injection. \n",
    "\n",
    "`StudentsController` class with `IStudentRepository` injected via constructor:\n",
    "```csharp\n",
    "public class StudentsController : ControllerBase\n",
    "{\n",
    "    private readonly IStudentRepository _repository;\n",
    "\n",
    "    public StudentsController(IStudentRepository repository)\n",
    "    {\n",
    "        _repository = repository;\n",
    "    }\n",
    "\n",
    "    public async Task SaveStudent(StudentDto dto)\n",
    "    {\n",
    "        await _repository.SaveStudentAsync(new Student(dto));\n",
    "    } \n",
    "}\n",
    "```\n",
    "\n",
    "With injection like this `StudentsController` is more modular, because exact implementation can be easily swapped during the construction time and the there is no reference to the exact implementation in the class itself."
   ]
  },
  {
   "cell_type": "markdown",
   "metadata": {},
   "source": [
    "Dependencies can be resolved recursively, which means that the `FileStudentRepository` class can be injecting dependencies it needs as well. The only nuance is that while the dependencies can be injected recursively, the top most class must be instantiated some other way. This is where the dependency injection frameworks comes into play.\n",
    "\n",
    "DI frameworks allows to configure the concrete implementations for injected types, their lifetimes and more. .NET has a `Microsoft` dependency injection framework, which is baked in into the ASP.NET and generic host applications, however there are alternative frameworks like `Autofac` and more.\n",
    "\n",
    "Next sections explores how to create simple dependency injection library yourself and how to use the standard Microsoft DI framework in ASP.NET."
   ]
  },
  {
   "cell_type": "markdown",
   "metadata": {},
   "source": [
    "## Homemade DI library\n",
    "\n",
    "To create even a simplest homemade DI library there are 2 obvious problems that need to be solved:\n",
    "\n",
    "1. How to know what dependencies the class has?\n",
    "2. Where should the top-most class come from?\n",
    "\n",
    "For the 1st problem a language feature \"reflection\" is typically used. Reflection allows to get the meta information about the types and assemblies during the runtime. It can also be used instantiate the type dynamically, just by knowing their assembly and name.\n",
    "\n",
    "For the 2nd problem a service locator pattern will be used. Service locator simply takes in a type as an argument and returns the instance that satisfies the type requirement for the given argument."
   ]
  },
  {
   "cell_type": "markdown",
   "metadata": {},
   "source": [
    "### Reflection\n",
    "\n",
    "Types that are used for reflection are located in `System.Reflection` namespace.\n",
    "\n",
    "Reflection can be used to access the member information on the type, get the types in assembly, get the attributes and their values and more. Here we will focus on the essentials."
   ]
  },
  {
   "cell_type": "code",
   "execution_count": null,
   "metadata": {
    "vscode": {
     "languageId": "polyglot-notebook"
    }
   },
   "outputs": [],
   "source": [
    "// Let's define a type that will be used to inspect using the reflection\n",
    "\n",
    "public class Person\n",
    "{\n",
    "    public string Name { get; init; }\n",
    "    public int Age { get; init; }\n",
    "\n",
    "    public Person(string name, int age)\n",
    "    {\n",
    "        Name = name;\n",
    "        Age = age;\n",
    "    }\n",
    "\n",
    "    public void SayHi()\n",
    "    {\n",
    "        Console.WriteLine($\"Hi, my name is {Name} and I'm {Age} years old.\");\n",
    "    }\n",
    "}"
   ]
  },
  {
   "cell_type": "markdown",
   "metadata": {},
   "source": [
    "To start reflecting on the `Person` class a type of this class will have to be acquired first:"
   ]
  },
  {
   "cell_type": "code",
   "execution_count": null,
   "metadata": {
    "vscode": {
     "languageId": "polyglot-notebook"
    }
   },
   "outputs": [],
   "source": [
    "using System.Reflection;\n",
    "\n",
    "// Type can be be assigned during a compile time:\n",
    "var typeCompileTime = typeof(Person);\n",
    "\n",
    "// Or it can be assigned during a runtime:\n",
    "var typeRuntime = new Person(\"John\", 30).GetType();\n",
    "\n",
    "// In any case, they are the same type\n",
    "Console.WriteLine(typeCompileTime == typeRuntime);"
   ]
  },
  {
   "cell_type": "code",
   "execution_count": null,
   "metadata": {
    "vscode": {
     "languageId": "polyglot-notebook"
    }
   },
   "outputs": [],
   "source": [
    "// Just for brevity\n",
    "var type = typeCompileTime;\n",
    "\n",
    "// Get all the properties of the type\n",
    "var properties = type.GetProperties();\n",
    "\n",
    "Console.WriteLine($\"Properties of the type {type.Name}:\");\n",
    "foreach (var property in properties)\n",
    "{\n",
    "    Console.WriteLine(property.Name);\n",
    "}"
   ]
  },
  {
   "cell_type": "code",
   "execution_count": null,
   "metadata": {
    "vscode": {
     "languageId": "polyglot-notebook"
    }
   },
   "outputs": [],
   "source": [
    "// In this example Person class has no public fields:\n",
    "var fields = type.GetFields();\n",
    "foreach (var field in fields)\n",
    "{\n",
    "    Console.WriteLine(field.Name);\n",
    "}"
   ]
  },
  {
   "cell_type": "code",
   "execution_count": null,
   "metadata": {
    "vscode": {
     "languageId": "polyglot-notebook"
    }
   },
   "outputs": [],
   "source": [
    "// But we know that the it has properties, which should have private backing fields generated by the compiler.\n",
    "// To access them, some additional flags indicating that we want to access private members are required:\n",
    "var fieldsWithPrivate = type.GetFields(BindingFlags.NonPublic | BindingFlags.Instance);\n",
    "foreach (var field in fieldsWithPrivate)\n",
    "{\n",
    "    Console.WriteLine(field.Name);\n",
    "}"
   ]
  },
  {
   "cell_type": "markdown",
   "metadata": {},
   "source": [
    "Although we only defined the `SayHi` method, but class has more of them. Some of them come inherited implicitly from the `object` base class, others (like `get_*` and `set_*`) are created during the compilation time."
   ]
  },
  {
   "cell_type": "code",
   "execution_count": null,
   "metadata": {
    "vscode": {
     "languageId": "polyglot-notebook"
    }
   },
   "outputs": [],
   "source": [
    "// Get all the methods of the type\n",
    "var methods = type.GetMethods();\n",
    "foreach (var method in methods)\n",
    "{\n",
    "    Console.WriteLine(method.Name);\n",
    "}"
   ]
  },
  {
   "cell_type": "code",
   "execution_count": null,
   "metadata": {
    "vscode": {
     "languageId": "polyglot-notebook"
    }
   },
   "outputs": [],
   "source": [
    "// Reflection can be used call the methods as well:\n",
    "var instance = new Person(\"John\", 30);\n",
    "var methodInfo = type.GetMethod(\"SayHi\");\n",
    "\n",
    "// Second parameter is an array of arguments, which the SayHi method does not have\n",
    "methodInfo.Invoke(instance, null);"
   ]
  },
  {
   "cell_type": "code",
   "execution_count": null,
   "metadata": {
    "vscode": {
     "languageId": "polyglot-notebook"
    }
   },
   "outputs": [],
   "source": [
    "// Similarly reflection can be used to get and set the property values\n",
    "\n",
    "// Get the property info\n",
    "var propertyInfo = type.GetProperty(\"Name\");\n",
    "\n",
    "// Get the value of the property\n",
    "var value = propertyInfo.GetValue(instance);\n",
    "\n",
    "Console.WriteLine(value);\n",
    "\n",
    "// Set the value of the property\n",
    "propertyInfo.SetValue(instance, \"Jane\");\n",
    "\n",
    "Console.WriteLine(instance.Name);"
   ]
  },
  {
   "cell_type": "code",
   "execution_count": null,
   "metadata": {
    "vscode": {
     "languageId": "polyglot-notebook"
    }
   },
   "outputs": [],
   "source": [
    "// Reflection can be used to obtain information about the types in assembly:\n",
    "var assembly = Assembly.GetExecutingAssembly();\n",
    "\n",
    "var types = assembly.GetTypes();\n",
    "\n",
    "Console.WriteLine($\"Types in the assembly {assembly.FullName}:\");\n",
    "foreach (var t in types)\n",
    "{\n",
    "    Console.WriteLine(t.Name);\n",
    "}\n",
    "\n",
    "// We know there is a Person type in this assembly, but because how the notebooks works,\n",
    "// we cannot simply find it, because it is nested within other class."
   ]
  },
  {
   "cell_type": "code",
   "execution_count": null,
   "metadata": {
    "vscode": {
     "languageId": "polyglot-notebook"
    }
   },
   "outputs": [],
   "source": [
    "// However we can see the type if it is defined in the same cell,\n",
    "// so there following examples will be verbose for them to work.\n",
    "\n",
    "public class Person\n",
    "{\n",
    "    public string Name { get; init; }\n",
    "    public int Age { get; init; }\n",
    "\n",
    "    public Person(string name, int age)\n",
    "    {\n",
    "        Name = name;\n",
    "        Age = age;\n",
    "    }\n",
    "\n",
    "    public void SayHi()\n",
    "    {\n",
    "        Console.WriteLine($\"Hi, my name is {Name} and I'm {Age} years old.\");\n",
    "    }\n",
    "}\n",
    "\n",
    "var assembly = Assembly.GetExecutingAssembly();\n",
    "\n",
    "var types = assembly.GetTypes();\n",
    "\n",
    "Console.WriteLine($\"Types in the assembly {assembly.FullName}:\");\n",
    "foreach (var t in types)\n",
    "{\n",
    "    Console.WriteLine(t.Name);\n",
    "}"
   ]
  },
  {
   "cell_type": "code",
   "execution_count": null,
   "metadata": {
    "vscode": {
     "languageId": "polyglot-notebook"
    }
   },
   "outputs": [],
   "source": [
    "// Reflection can also be used to get the information about the constructors of the type\n",
    "\n",
    "public class Person\n",
    "{\n",
    "    public string Name { get; init; }\n",
    "    public int Age { get; init; }\n",
    "\n",
    "    public Person(string name, int age)\n",
    "    {\n",
    "        Name = name;\n",
    "        Age = age;\n",
    "    }\n",
    "\n",
    "    public void SayHi()\n",
    "    {\n",
    "        Console.WriteLine($\"Hi, my name is {Name} and I'm {Age} years old.\");\n",
    "    }\n",
    "}\n",
    "\n",
    "var constructors = typeof(Person).GetConstructors();\n",
    "\n",
    "Console.WriteLine($\"Constructors of the type {type.Name}:\");\n",
    "foreach (var constructor in constructors)\n",
    "{\n",
    "    Console.WriteLine(constructor);\n",
    "}"
   ]
  },
  {
   "cell_type": "code",
   "execution_count": null,
   "metadata": {
    "vscode": {
     "languageId": "polyglot-notebook"
    }
   },
   "outputs": [],
   "source": [
    "// Reflection can be used to instantiate the type completely dynamically\n",
    "\n",
    "public class Person\n",
    "{\n",
    "    public string Name { get; init; }\n",
    "    public int Age { get; init; }\n",
    "\n",
    "    public Person(string name, int age)\n",
    "    {\n",
    "        Name = name;\n",
    "        Age = age;\n",
    "    }\n",
    "\n",
    "    public void SayHi()\n",
    "    {\n",
    "        Console.WriteLine($\"Hi, my name is {Name} and I'm {Age} years old.\");\n",
    "    }\n",
    "}\n",
    "\n",
    "var type = typeof(Person);\n",
    "\n",
    "var constructor = type.GetConstructors()[0];\n",
    "var instance = constructor.Invoke(new object[] { \"John\", 30 });\n",
    "\n",
    "var methodInfo = type.GetMethod(\"SayHi\");\n",
    "methodInfo.Invoke(instance, null);"
   ]
  },
  {
   "cell_type": "markdown",
   "metadata": {},
   "source": [
    "### DI library implementation and Service Locator\n",
    "\n",
    "Service locator is a design pattern to which you pass the type and get the instance back.\n",
    "\n",
    "The simplest interface looks like this:\n",
    "\n",
    "```csharp\n",
    "public class ServiceLocator\n",
    "{\n",
    "    public T GetInstance<T>() { }\n",
    "}\n",
    "```\n",
    "\n",
    "For this example assume that there is an interface `IStudentRepository` and `FileStudentRepository` which implements the interface. Our DI library will be simple and convention based: it will search for a type defined in the same assembly that is assignable to the type requested by the constructor."
   ]
  },
  {
   "cell_type": "code",
   "execution_count": null,
   "metadata": {
    "vscode": {
     "languageId": "polyglot-notebook"
    }
   },
   "outputs": [],
   "source": [
    "public class Student { }\n",
    "\n",
    "public interface IStudentRepository\n",
    "{\n",
    "    void Save(Student student);\n",
    "}\n",
    "\n",
    "public class StudentController\n",
    "{\n",
    "    private readonly IStudentRepository _studentRepository;\n",
    "\n",
    "    public StudentController(IStudentRepository studentRepository)\n",
    "    {\n",
    "        _studentRepository = studentRepository;\n",
    "    }\n",
    "\n",
    "    public void SaveStudent(Student student)\n",
    "    {\n",
    "        Console.WriteLine(\"Saving student in the controller\");\n",
    "        _studentRepository.Save(student);\n",
    "    }\n",
    "}\n",
    "\n",
    "public class FileStudentRepository : IStudentRepository\n",
    "{\n",
    "    public void Save(Student student)\n",
    "    {\n",
    "        Console.WriteLine(\"Saving student to a file\");\n",
    "    }\n",
    "}\n",
    "\n",
    "class ServiceLocator\n",
    "{\n",
    "    // Because the reflection happens at runtime, there is no way of being type safe then.\n",
    "    // This adds a generic layer and casting to convert the object to the desired type.\n",
    "    public T GetInstance<T>() where T : class\n",
    "    {\n",
    "        return (T)GetInstance(typeof(T));\n",
    "    }\n",
    "\n",
    "    private static object GetInstance(Type requestedType)\n",
    "    {\n",
    "        var assembly = Assembly.GetExecutingAssembly();\n",
    "        var types = assembly.GetTypes();\n",
    "\n",
    "        // Find the first class that is assignable to the requested type\n",
    "        var type = types.FirstOrDefault(x => x.IsClass && x.IsAssignableTo(requestedType));\n",
    "        if (type == null)\n",
    "        {\n",
    "            throw new InvalidOperationException($\"Cannot locate implementation for type {requestedType}\");\n",
    "        }\n",
    "\n",
    "        var ctors = type.GetConstructors();\n",
    "\n",
    "        // Just use the first constructor, might not work well if there were more than one\n",
    "        var ctor = ctors[0];\n",
    "        if (ctor.GetParameters().Length == 0) \n",
    "        {\n",
    "            return Activator.CreateInstance(type);\n",
    "        }\n",
    "\n",
    "        // Constructor can require other type to be injected, so we need to resolve them recursively\n",
    "        var ctorParams = new List<object>();\n",
    "        foreach (var param in ctor.GetParameters())\n",
    "        {\n",
    "            ctorParams.Add(GetInstance(param.ParameterType));\n",
    "        }\n",
    "\n",
    "        return ctor.Invoke(ctorParams.ToArray());\n",
    "    }\n",
    "}\n",
    "\n",
    "\n",
    "// Test it out\n",
    "var serviceLocator = new ServiceLocator();\n",
    "var studentController = serviceLocator.GetInstance<StudentController>();\n",
    "studentController.SaveStudent(new Student());"
   ]
  },
  {
   "cell_type": "markdown",
   "metadata": {
    "vscode": {
     "languageId": "polyglot-notebook"
    }
   },
   "source": [
    "## Usage of Microsoft DI in .NET\n",
    "\n",
    "The actual purpose built DI libraries are much more capable than the one in the example above. ASP.NET comes with Microsoft DI library out of the box and it is a solid choice to use for most scenarios.\n",
    "\n",
    "Since the controller or an endpoint definition are natural entry points for most cases in the ASP.NET application, there is no need to use things like service locators. To start using DI it is enough to create constructor with the required type (or add an argument when using endpoints).\n",
    "\n",
    "For DI framework to know which type will have to be injected, it will have to be manually registered.\n",
    "\n",
    "ASP.NET application will have templated code looking something like this:\n",
    "\n",
    "```csharp\n",
    "var builder = WebApplication.CreateBuilder(args);\n",
    "\n",
    "// The builder is of WebApplicationBuilder or similar type.\n",
    "// It has property `.Services` with methods needed to register services to the container.\n",
    "\n",
    "builder.Services.AddSingleton<IStudentRepository, FileStudentRepository>();\n",
    "```\n",
    "\n",
    "In the example above there is everything that needs to be done to start injecting the `IStudentRepository` inside the controller.\n",
    "\n",
    "One important thing to know are the lifetimes of instances. They can be:\n",
    "- Singleton (`AddSingleton()`).\n",
    "- Scoped (`AddScoped()`).\n",
    "- Transient (`.AddTransient()`).\n",
    "\n",
    "Singletons use a single instance for all the injections within the application lifetime.\n",
    "\n",
    "Scoped uses a single instance for the single scope. In ASP.NET the single scope is 1 HTTP requests. However if this DI framework were to be used for console app, then the scopes could be manually configured to mean whatever makes sense in that case. From practical point of view in ASP.NET this will be mean that if several dependencies uses `ILogger`, then the exact same instance of `ILogger` would injected into them during the single request.\n",
    "\n",
    "Transient uses injects new instance for every single injection. This means that if there are couple of classes injected into constructor and they both require `ILogger`, then different instances will be injected to them."
   ]
  }
 ],
 "metadata": {
  "kernelspec": {
   "display_name": ".NET (C#)",
   "language": "C#",
   "name": ".net-csharp"
  },
  "language_info": {
   "name": "csharp"
  },
  "polyglot_notebook": {
   "kernelInfo": {
    "defaultKernelName": "csharp",
    "items": [
     {
      "aliases": [],
      "name": "csharp"
     }
    ]
   }
  }
 },
 "nbformat": 4,
 "nbformat_minor": 2
}
