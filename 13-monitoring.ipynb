{
 "cells": [
  {
   "cell_type": "markdown",
   "metadata": {
    "slideshow": {
     "slide_type": "slide"
    }
   },
   "source": [
    "# Monitoring\n",
    "\n",
    "Monitoring is the process of observing application behavior to ensure reliable operation.\n",
    "\n",
    "Logging is the process of storing information for monitoring, debugging or analysis purposes."
   ]
  },
  {
   "cell_type": "markdown",
   "metadata": {
    "slideshow": {
     "slide_type": "slide"
    }
   },
   "source": [
    "## Logging\n",
    "\n",
    "Logging is done by writing log statements when the program is being executed. Logs are not intended to influence the behavior of application, but rather to help understand what is happening for the observers.\n",
    "\n",
    "```csharp\n",
    "_logger.LogInformation(\"We are hereeeee\");\n",
    "```"
   ]
  },
  {
   "cell_type": "markdown",
   "metadata": {
    "slideshow": {
     "slide_type": "subslide"
    }
   },
   "source": [
    "### Log severity\n",
    "\n",
    "Logs are usually divided into different severity levels:\n",
    "\n",
    "1. Trace\n",
    "1. Debug\n",
    "1. Information\n",
    "1. Warning\n",
    "1. Error"
   ]
  },
  {
   "cell_type": "markdown",
   "metadata": {
    "slideshow": {
     "slide_type": "skip"
    }
   },
   "source": [
    "Log levels are intended to help engineers better filter information that is being produced. Each subsequent level goes up in severity. More severe levels can be interpreted as being more important.\n",
    "\n",
    "For example if `Trace` levels logs are very verbose, where they can even be made to print information about each statements that is being executed. Such verbosity can be too much even for local debugging purposes, so the engineer can choose not to print or display `Trace` level logs.\n",
    "\n",
    "Similarly we could say that `Error` logs are so important and mean such extraordinary situations, that some engineer should be automatically notified when this happens. This report would be an example of alert."
   ]
  },
  {
   "cell_type": "markdown",
   "metadata": {
    "slideshow": {
     "slide_type": "slide"
    }
   },
   "source": [
    "### Logging in ASP.NET\n",
    "\n",
    "ASP.NET generic host comes prepared with a console logger provider. To access this logger, you simply need to inject it into your class:\n",
    "\n",
    "```csharp\n",
    "public class MyClass\n",
    "{\n",
    "    private readonly ILogger _logger;\n",
    "\n",
    "    public MyClass(ILogger<MyClass> logger)\n",
    "    {\n",
    "        _logger = logger;\n",
    "    }\n",
    "}\n",
    "```\n",
    "\n",
    "Note that `ILogger<>` must be injected in it's generic form, there the generic type matches the type into which you are injecting it."
   ]
  },
  {
   "cell_type": "markdown",
   "metadata": {
    "slideshow": {
     "slide_type": "subslide"
    }
   },
   "source": [
    "`ILogger` has methods for all severities and overloads for most common scenarios:\n",
    "\n",
    "```csharp\n",
    "_logger.LogDebug(\"Debug\");\n",
    "_logger.LogInformation(\"Information\");\n",
    "_logger.LogWarning(\"Warning\");\n",
    "```\n",
    "\n",
    "Severity can also be passed as an argument:\n",
    "\n",
    "```csharp\n",
    "_logger.Log(LogLevel.Information, \"Information\");\n",
    "```\n",
    "\n",
    "Overload to pass an exception for an error log:\n",
    "\n",
    "```csharp\n",
    "_logger.LogError(new Exception(), \"Exception happened\");\n",
    "```"
   ]
  },
  {
   "cell_type": "markdown",
   "metadata": {
    "slideshow": {
     "slide_type": "slide"
    }
   },
   "source": [
    "## Monitoring tools\n",
    "\n",
    "One of the things that enable monitoring are tools that allow to collect, visualize and act upon metrics provided by the program."
   ]
  },
  {
   "cell_type": "markdown",
   "metadata": {
    "slideshow": {
     "slide_type": "subslide"
    }
   },
   "source": [
    "### Metrics\n",
    "\n",
    "- Counter: value that only goes up.\n",
    "- Gauge: momentary value.\n",
    "- Histogram: event type value that might be statistically significant."
   ]
  },
  {
   "cell_type": "markdown",
   "metadata": {
    "slideshow": {
     "slide_type": "slide"
    }
   },
   "source": [
    "## Monitoring example with Grafana\n",
    "\n",
    "This example will show sample setup for using Grafana for logs, dashboards and alerting together with ASP.NET.\n",
    "\n",
    "```mermaid\n",
    "graph TD\n",
    "    A[ASP.NET Application] -->|Telemetry Data| B[OpenTelemetry .NET SDK]\n",
    "    B -->|Exports Metrics| C[OpenTelemetry Collector]\n",
    "    C -->|Scraped Metrics| D[Prometheus]\n",
    "    D -->|Serves Data| E[Grafana]\n",
    "    E -->|Visualizes Data| F[Dashboards]\n",
    "\n",
    "    subgraph Observability Pipeline\n",
    "        B\n",
    "        C\n",
    "        D\n",
    "        E\n",
    "    end\n",
    "```"
   ]
  },
  {
   "cell_type": "markdown",
   "metadata": {},
   "source": [
    "### Providing metrics\n",
    "\n",
    "To be able to display something in external tools, first we will need to start outputting some information - metrics - that later could be used for display."
   ]
  },
  {
   "cell_type": "markdown",
   "metadata": {},
   "source": [
    "#### Providing metrics with `OpenTelemetry`\n",
    "\n",
    "`OpenTelemetry` is a set packages that can be used to export metrics for monitoring tools in various format.\n",
    "\n",
    "To start using it, add the following packages:\n",
    "\n",
    "```bash\n",
    "dotnet add package OpenTelemetry.Exporter.Prometheus.AspNetCore --prerelease\n",
    "dotnet add package OpenTelemetry.Extensions.Hosting\n",
    "dotnet add package OpenTelemetry.Instrumentation.AspNetCore\n",
    "```"
   ]
  },
  {
   "cell_type": "markdown",
   "metadata": {},
   "source": [
    "In the API project register the OpenTelemetry services to the DI and add the middlewares:\n",
    "\n",
    "Dependency injection:\n",
    "\n",
    "```csharp\n",
    "builder\n",
    "    .Services.AddOpenTelemetry()\n",
    "    .WithMetrics(metrics =>\n",
    "    {\n",
    "        metrics.AddPrometheusExporter().AddAspNetCoreInstrumentation();\n",
    "        metrics.SetResourceBuilder(ResourceBuilder.CreateDefault().AddService(\"dotnet-app\"));\n",
    "    });\n",
    "```\n",
    "\n",
    "Middlewares:\n",
    "\n",
    "```csharp\n",
    "// This by default will start exposing metrics at /metrics endpoint.\n",
    "app.MapPrometheusScrapingEndpoint();\n",
    "```\n"
   ]
  },
  {
   "cell_type": "markdown",
   "metadata": {},
   "source": [
    "### Reading metrics with Prometheus\n",
    "\n",
    "Create `prometheus.yml` as follows:\n",
    "\n",
    "```yaml\n",
    "global:\n",
    "  scrape_interval: 5s\n",
    "\n",
    "scrape_configs:\n",
    "  - job_name: \"dotnet-app\"\n",
    "    static_configs:\n",
    "      - targets: [\"<host>:<port>\"]\n",
    "```\n",
    "\n",
    "Keep in mind that target defaults to `/metrics` endpoint. This will be relevant in a bit."
   ]
  },
  {
   "cell_type": "markdown",
   "metadata": {},
   "source": [
    "Start the docker container with Prometheus:\n",
    "\n",
    "```bash\n",
    "docker run -d \\\n",
    "  --name prometheus \\\n",
    "  -p 9090:9090 \\\n",
    "  -v $(pwd)/prometheus.yml:/etc/prometheus/prometheus.yml \\\n",
    "  prom/prometheus\n",
    "```\n",
    "\n",
    "Replace the `$(pwd)` with the proper path on Windows machine. Make sure to use absolute paths."
   ]
  },
  {
   "cell_type": "markdown",
   "metadata": {},
   "source": [
    "### Running Grafana\n",
    "\n",
    "```bash\n",
    "docker run -d \\\n",
    "  --name grafana \\\n",
    "  -p 3000:3000 \\\n",
    "  grafana/grafana\n",
    "```\n",
    "\n",
    "After Grafana is starter, it needs to be connected with Prometheus:\n",
    "1. Open Grafana in a browser: http://localhost:3000.\n",
    "1. Log in with default credentials (image defaults):\n",
    "    - Username: admin\n",
    "    - Password: admin\n",
    "1. Add Prometheus as a data source:\n",
    "    - Navigate to Connections → Data Sources → Add Data Source.\n",
    "    - Choose Prometheus.\n",
    "    - Set the URL to: http://host.docker.internal:9090 (on Windows/macOS) or http://<host_ip>:9090 (Linux). Port 9090 is taken from the previous step when launching Prometheus container.\n",
    "1. Save and Test the connection."
   ]
  },
  {
   "cell_type": "markdown",
   "metadata": {},
   "source": [
    "### Creating custom metrics in dotnet"
   ]
  },
  {
   "cell_type": "markdown",
   "metadata": {},
   "source": [
    "#### Tracking the error rate\n",
    "\n",
    "Create custom counter:\n",
    "```csharp\n",
    "var meter = new Meter(\"ErrorMeter\");\n",
    "var errorCounter = meter.CreateCounter<long>(\"errors\");\n",
    "```\n",
    "\n",
    "Add the meter:\n",
    "```csharp\n",
    ".WithMetrics(metrics =>\n",
    "    {\n",
    "        ...\n",
    "        metrics.AddMeter(\"ErrorMeter\");    \n",
    "    });\n",
    "```\n",
    "\n",
    "Increase the counter via middleware:\n",
    "\n",
    "```csharp\n",
    "app.Use(\n",
    "    (context, next) =>\n",
    "    {\n",
    "        try\n",
    "        {\n",
    "            return next();\n",
    "        }\n",
    "        catch\n",
    "        {\n",
    "            errorCounter.Add(1);\n",
    "            throw;\n",
    "        }\n",
    "    }\n",
    ");\n",
    "```"
   ]
  },
  {
   "cell_type": "markdown",
   "metadata": {},
   "source": [
    "You can see in the example above, that the metrics are glued together with the string name. So same mechanism can be used to add more custom metrics throughout your solution."
   ]
  },
  {
   "cell_type": "markdown",
   "metadata": {},
   "source": [
    "## Further reading\n",
    "\n",
    "- https://sre.google/workbook/monitoring/"
   ]
  }
 ],
 "metadata": {
  "kernelspec": {
   "display_name": ".NET (C#)",
   "language": "C#",
   "name": ".net-csharp"
  },
  "language_info": {
   "name": "csharp"
  },
  "polyglot_notebook": {
   "kernelInfo": {
    "defaultKernelName": "csharp",
    "items": [
     {
      "aliases": [],
      "name": "csharp"
     }
    ]
   }
  }
 },
 "nbformat": 4,
 "nbformat_minor": 2
}
