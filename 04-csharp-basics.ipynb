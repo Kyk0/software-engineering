{
 "cells": [
  {
   "cell_type": "markdown",
   "metadata": {},
   "source": [
    "# C# Basics\n",
    "\n",
    "This notebook covers C# language basic building blocks: types, operators, cycles, generics, comparison and more."
   ]
  },
  {
   "cell_type": "markdown",
   "metadata": {},
   "source": [
    "## Built-in types\n",
    "\n",
    "C# has 18 built-in types. These types are built into .NET, but they have keywords (aliases in C#). All of these types can be referenced using they full qualifiers, but it is more common practice to reference them by their C# keyword instead."
   ]
  },
  {
   "cell_type": "code",
   "execution_count": null,
   "metadata": {
    "dotnet_interactive": {
     "language": "csharp"
    },
    "polyglot_notebook": {
     "kernelName": "csharp"
    }
   },
   "outputs": [],
   "source": [
    "// Reference by their C# keywords like this\n",
    "float floatNumber = 10;\n",
    "\n",
    "// Instead of this\n",
    "System.Single floatNumberNet = 10;"
   ]
  },
  {
   "cell_type": "code",
   "execution_count": null,
   "metadata": {
    "dotnet_interactive": {
     "language": "csharp"
    },
    "polyglot_notebook": {
     "kernelName": "csharp"
    }
   },
   "outputs": [],
   "source": [
    "bool boolValue = true;\n",
    "bool boolButFalse = false;"
   ]
  },
  {
   "cell_type": "code",
   "execution_count": null,
   "metadata": {
    "dotnet_interactive": {
     "language": "csharp"
    },
    "polyglot_notebook": {
     "kernelName": "csharp"
    }
   },
   "outputs": [],
   "source": [
    "byte byteValue = 255;\n",
    "\n",
    "// Will yield an error\n",
    "// byte byteTooBig = 256;"
   ]
  },
  {
   "cell_type": "code",
   "execution_count": null,
   "metadata": {
    "dotnet_interactive": {
     "language": "csharp"
    },
    "polyglot_notebook": {
     "kernelName": "csharp"
    }
   },
   "outputs": [],
   "source": [
    "char character = 'a';"
   ]
  },
  {
   "cell_type": "code",
   "execution_count": null,
   "metadata": {
    "dotnet_interactive": {
     "language": "csharp"
    },
    "polyglot_notebook": {
     "kernelName": "csharp"
    }
   },
   "outputs": [],
   "source": [
    "// Uses 4 bytes\n",
    "// By default the number with decimal point is double, so F is needed to specify it is float\n",
    "float floatNumber = 10.1F;\n",
    "floatNumber.Display();\n",
    "\n",
    "floatNumber = 10.000001F;\n",
    "floatNumber.Display();\n",
    "\n",
    "floatNumber = 10.0000001F;\n",
    "floatNumber.Display();"
   ]
  },
  {
   "cell_type": "code",
   "execution_count": null,
   "metadata": {
    "dotnet_interactive": {
     "language": "csharp"
    },
    "polyglot_notebook": {
     "kernelName": "csharp"
    }
   },
   "outputs": [],
   "source": [
    "// Can be directly assigned with decimal point\n",
    "double doubleNumber = 10.00000000000001;\n",
    "doubleNumber.Display();\n",
    "\n",
    "// Has quirks around the edge of precision\n",
    "doubleNumber = 10.000000000000001;\n",
    "doubleNumber.Display();"
   ]
  },
  {
   "cell_type": "code",
   "execution_count": null,
   "metadata": {
    "dotnet_interactive": {
     "language": "csharp"
    },
    "polyglot_notebook": {
     "kernelName": "csharp"
    }
   },
   "outputs": [],
   "source": [
    "// Uses different math specification than float/double at the cost of speed\n",
    "decimal decimalNumber = 10.000000000000001M;\n",
    "decimalNumber.Display();\n",
    "\n",
    "decimalNumber = 10.000000000000000000000000001M;\n",
    "decimalNumber.Display();"
   ]
  },
  {
   "cell_type": "code",
   "execution_count": null,
   "metadata": {
    "dotnet_interactive": {
     "language": "csharp"
    },
    "polyglot_notebook": {
     "kernelName": "csharp"
    }
   },
   "outputs": [],
   "source": [
    "int integerNumber = 2000000000;\n",
    "long longNumber = 2000000000000000000;"
   ]
  },
  {
   "cell_type": "code",
   "execution_count": null,
   "metadata": {
    "dotnet_interactive": {
     "language": "csharp"
    },
    "polyglot_notebook": {
     "kernelName": "csharp"
    }
   },
   "outputs": [],
   "source": [
    "string text = \"Hello, World!\";"
   ]
  },
  {
   "cell_type": "code",
   "execution_count": null,
   "metadata": {
    "dotnet_interactive": {
     "language": "csharp"
    },
    "polyglot_notebook": {
     "kernelName": "csharp"
    }
   },
   "outputs": [],
   "source": [
    "// Base reference type\n",
    "object objectValue = new object();\n",
    "\n",
    "// Any type can be assigned to it\n",
    "objectValue = 10;\n",
    "objectValue = \"Hello\";\n",
    "objectValue = true;"
   ]
  },
  {
   "cell_type": "markdown",
   "metadata": {},
   "source": [
    "## Operators\n",
    "\n",
    "Each type comes with a list of predefined operators. C# also allows overriding of operators for specific types."
   ]
  },
  {
   "cell_type": "markdown",
   "metadata": {},
   "source": [
    "### Arithmetic operators"
   ]
  },
  {
   "cell_type": "markdown",
   "metadata": {},
   "source": [
    "### Assignment operators"
   ]
  },
  {
   "cell_type": "markdown",
   "metadata": {},
   "source": [
    "### Comparison operators"
   ]
  },
  {
   "cell_type": "markdown",
   "metadata": {},
   "source": [
    "### Logical operators"
   ]
  },
  {
   "cell_type": "markdown",
   "metadata": {},
   "source": [
    "#### Short circuits"
   ]
  },
  {
   "cell_type": "markdown",
   "metadata": {},
   "source": [
    "### Binary operators"
   ]
  },
  {
   "cell_type": "markdown",
   "metadata": {},
   "source": [
    "### Overloading operators\n",
    "\n",
    "Operators can be overloaded on user defined types. Overloading allows to give operators to types that do not support these operators by default. Operators are overloaded using the `operator` keyword on that type."
   ]
  },
  {
   "cell_type": "code",
   "execution_count": null,
   "metadata": {
    "dotnet_interactive": {
     "language": "csharp"
    },
    "polyglot_notebook": {
     "kernelName": "csharp"
    }
   },
   "outputs": [],
   "source": [
    "class Number \n",
    "{\n",
    "    protected readonly int Value;\n",
    "\n",
    "    public Number(int value) => Value = value;\n",
    "\n",
    "    public override string ToString() => $\"{Value}\";\n",
    "\n",
    "    public static Number operator +(Number a, Number b)\n",
    "        => new Number(a.Value + b.Value);\n",
    "\n",
    "    public static Number operator -(Number a, Number b)\n",
    "        => new Number(a.Value - b.Value);\n",
    "}"
   ]
  },
  {
   "cell_type": "code",
   "execution_count": null,
   "metadata": {
    "dotnet_interactive": {
     "language": "csharp"
    },
    "polyglot_notebook": {
     "kernelName": "csharp"
    }
   },
   "outputs": [],
   "source": [
    "var a = new Number(10);\n",
    "var b = new Number(20);\n",
    "\n",
    "a.Display();\n",
    "b.Display();"
   ]
  },
  {
   "cell_type": "code",
   "execution_count": null,
   "metadata": {
    "dotnet_interactive": {
     "language": "csharp"
    },
    "polyglot_notebook": {
     "kernelName": "csharp"
    }
   },
   "outputs": [],
   "source": [
    "(a + b).Display();\n",
    "(a - b).Display();"
   ]
  },
  {
   "cell_type": "markdown",
   "metadata": {},
   "source": [
    "### Ternary operator"
   ]
  },
  {
   "cell_type": "markdown",
   "metadata": {},
   "source": [
    "### Null coalescing"
   ]
  },
  {
   "cell_type": "markdown",
   "metadata": {},
   "source": [
    "## User defined types"
   ]
  },
  {
   "cell_type": "markdown",
   "metadata": {},
   "source": [
    "### Classes"
   ]
  },
  {
   "cell_type": "markdown",
   "metadata": {},
   "source": [
    "### Structs"
   ]
  },
  {
   "cell_type": "markdown",
   "metadata": {},
   "source": [
    "### Records"
   ]
  },
  {
   "cell_type": "markdown",
   "metadata": {},
   "source": [
    "### Interfaces"
   ]
  },
  {
   "cell_type": "markdown",
   "metadata": {},
   "source": [
    "### Enums"
   ]
  },
  {
   "cell_type": "markdown",
   "metadata": {},
   "source": [
    "## Type conversions"
   ]
  },
  {
   "cell_type": "markdown",
   "metadata": {},
   "source": [
    "### Casting\n",
    "\n",
    "Casting is converting variables of one type to another. Because C# is a type-safe language - type conversions are only available when types are compatible for conversion. If types cannot be converted from one to another, then it will result in either runtime or compile time exception."
   ]
  },
  {
   "cell_type": "markdown",
   "metadata": {},
   "source": [
    "#### Implicit cast\n",
    "\n",
    "Implicit casts happen when variable of one type is assigned to the variable of another type. Implicit casting does not require any additional syntax - simple assignment is enough. Implicit casts are typically safe.\n",
    "\n",
    "Implicit casts happen from more specific to mess specific types, or from equivalent more precise types to less precise types."
   ]
  },
  {
   "cell_type": "code",
   "execution_count": null,
   "metadata": {
    "dotnet_interactive": {
     "language": "csharp"
    },
    "polyglot_notebook": {
     "kernelName": "csharp"
    }
   },
   "outputs": [],
   "source": [
    "class LessSpecificType\n",
    "{\n",
    "}\n",
    "\n",
    "class MoreSpecificType : LessSpecificType\n",
    "{\n",
    "}\n",
    "\n",
    "var moreSpecificType = new MoreSpecificType();\n",
    "LessSpecificType lessSpecificType = moreSpecificType;"
   ]
  },
  {
   "cell_type": "markdown",
   "metadata": {},
   "source": [
    "#### Explicit cast"
   ]
  },
  {
   "cell_type": "markdown",
   "metadata": {},
   "source": [
    "#### User defined cast operators"
   ]
  },
  {
   "cell_type": "markdown",
   "metadata": {},
   "source": [
    "### Boxing and Unboxing\n",
    "\n",
    "Boxing happens a value type is assigned to reference typed variable. Boxed value is moved to memory-heap and a reference pointing to that place in memory is stored in variable."
   ]
  },
  {
   "cell_type": "code",
   "execution_count": null,
   "metadata": {
    "dotnet_interactive": {
     "language": "csharp"
    },
    "polyglot_notebook": {
     "kernelName": "csharp"
    }
   },
   "outputs": [],
   "source": [
    "// When a value type is assigned to reference typed variable it is called boxing\n",
    "\n",
    "// `object` is an reference type\n",
    "// literal 10 is an `int` which is a value type\n",
    "object boxed = 10;"
   ]
  },
  {
   "cell_type": "markdown",
   "metadata": {},
   "source": [
    "## Generics"
   ]
  },
  {
   "cell_type": "markdown",
   "metadata": {},
   "source": [
    "## Memory management\n",
    "\n",
    "C# is a memory safe language. As a developer you do not need to deal with memory allocations or freeing the unused memory.\n",
    "\n",
    "When a new variable is instantiated memory is automatically allocated for storing that variable by the runtime.\n",
    "\n",
    "When a variable is no longer needed, the memory is *eventually* going to be freed up by the Garbage Collector (or GC for short). Garbage Collector looks for memory allocations that do not have any recursive pointers to the from the *main* thread. GC works in iterations and during the iteration there is a possibility that memory that has no references to it will be freed up."
   ]
  },
  {
   "cell_type": "code",
   "execution_count": null,
   "metadata": {
    "dotnet_interactive": {
     "language": "csharp"
    },
    "polyglot_notebook": {
     "kernelName": "csharp"
    }
   },
   "outputs": [],
   "source": [
    "// Garbage collector can be invoked manually\n",
    "GC.Collect();"
   ]
  },
  {
   "cell_type": "code",
   "execution_count": null,
   "metadata": {
    "dotnet_interactive": {
     "language": "csharp"
    },
    "polyglot_notebook": {
     "kernelName": "csharp"
    }
   },
   "outputs": [],
   "source": [
    "// Display the total memory used by the program\n",
    "GC.GetTotalMemory(false).Display();"
   ]
  },
  {
   "cell_type": "markdown",
   "metadata": {},
   "source": [
    "### `unsafe`\n",
    "\n",
    "`unsafe` keywords allows working with pointers directly. Typically it is not recommended to use `unsafe` in any case, but here are certain **very niche** cases when using `unsafe` might used to write more performant code, or to achieve interoperability with legacy applications."
   ]
  },
  {
   "cell_type": "code",
   "execution_count": null,
   "metadata": {
    "dotnet_interactive": {
     "language": "csharp"
    },
    "polyglot_notebook": {
     "kernelName": "csharp"
    }
   },
   "outputs": [],
   "source": [
    "// Unsafe allows to work with pointers\n",
    "unsafe\n",
    "{\n",
    "    int number = 10;\n",
    "    int* pointer = &number;\n",
    "\n",
    "    pointer->Display();\n",
    "}"
   ]
  },
  {
   "cell_type": "code",
   "execution_count": null,
   "metadata": {
    "dotnet_interactive": {
     "language": "csharp"
    },
    "polyglot_notebook": {
     "kernelName": "csharp"
    }
   },
   "outputs": [],
   "source": [
    "// Methods can be marked as unsafe too\n",
    "static unsafe void UnsafeMethod()\n",
    "{\n",
    "    int number = 10;\n",
    "    int* pointer = &number;\n",
    "\n",
    "    pointer->Display();\n",
    "}"
   ]
  },
  {
   "cell_type": "code",
   "execution_count": null,
   "metadata": {
    "dotnet_interactive": {
     "language": "csharp"
    },
    "polyglot_notebook": {
     "kernelName": "csharp"
    }
   },
   "outputs": [],
   "source": [
    "// Unsafe methods can accept pointers as arguments\n",
    "unsafe void UnsafeMethod(int* pointer)\n",
    "{\n",
    "    pointer->Display();\n",
    "}"
   ]
  },
  {
   "cell_type": "code",
   "execution_count": null,
   "metadata": {
    "dotnet_interactive": {
     "language": "csharp"
    },
    "polyglot_notebook": {
     "kernelName": "csharp"
    }
   },
   "outputs": [],
   "source": [
    "// Using unsafe true references can be passed\n",
    "unsafe {\n",
    "    object obj = new object();\n",
    "    var object2 = &obj;\n",
    "\n",
    "    obj = null;\n",
    "    object2->Display();\n",
    "}"
   ]
  }
 ],
 "metadata": {
  "kernelspec": {
   "display_name": ".NET (C#)",
   "language": "C#",
   "name": ".net-csharp"
  },
  "language_info": {
   "name": "polyglot-notebook"
  },
  "polyglot_notebook": {
   "kernelInfo": {
    "defaultKernelName": "csharp",
    "items": [
     {
      "aliases": [],
      "languageName": "csharp",
      "name": "csharp"
     }
    ]
   }
  }
 },
 "nbformat": 4,
 "nbformat_minor": 2
}
