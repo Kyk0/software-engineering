{
 "cells": [
  {
   "cell_type": "markdown",
   "metadata": {},
   "source": [
    "# UI and UX\n",
    "\n",
    "Figma file where you can explore the practical aspects of app design: [link to Figma](https://www.figma.com/design/kGTVt2mugpQb986YV0NAew/UX%2FUI-Design-lecture-Case-Study?node-id=0-1&t=tnyH4SnsTfqEBkfK-1).\n",
    "\n",
    "Slides use for presentation: [link to OneDrive](https://vult-my.sharepoint.com/:b:/g/personal/tomas_smagurauskas_mif_vu_lt/EZWLl--Gq6lOpLP-Qd_JJasBszzkDmX2S7_jZZI4N9YJNA?e=WUAyD6). Will need to login with VU email to access them."
   ]
  },
  {
   "cell_type": "markdown",
   "metadata": {},
   "source": [
    "## Additional reading\n",
    "\n",
    "> Additionally, I recommend looking into Laws of UX (https://lawsofux.com/)  to familiarize yourself with best practices. From now on, I encourage you to become mindful observers—notice the apps and websites you use daily, look for patterns, and observe how UI elements are applied. Challenge the design choices, reflect on frustrating experiences as well as delightful ones, and keep those insights in mind. This practice will help you build a strong knowledge base and refine your intuition as you create your own projects.\n"
   ]
  }
 ],
 "metadata": {
  "kernelspec": {
   "display_name": ".NET (C#)",
   "language": "C#",
   "name": ".net-csharp"
  },
  "language_info": {
   "name": "polyglot-notebook"
  },
  "polyglot_notebook": {
   "kernelInfo": {
    "defaultKernelName": "csharp",
    "items": [
     {
      "aliases": [],
      "languageName": "csharp",
      "name": "csharp"
     }
    ]
   }
  }
 },
 "nbformat": 4,
 "nbformat_minor": 2
}
