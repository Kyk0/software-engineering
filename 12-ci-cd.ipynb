{
 "cells": [
  {
   "cell_type": "markdown",
   "metadata": {
    "slideshow": {
     "slide_type": "slide"
    }
   },
   "source": [
    "# CI/CD\n",
    "\n",
    "CI - continuous integration.  \n",
    "CD - continuous delivery/deployment.\n",
    "\n",
    "Collectively CI/CD refers to automated integration and delivery of code, usually assisted by the tooling."
   ]
  },
  {
   "cell_type": "markdown",
   "metadata": {
    "slideshow": {
     "slide_type": "slide"
    }
   },
   "source": [
    "```mermaid\n",
    "graph TD\n",
    "    A[Developer Commit Code] --> B[Push to Repository]\n",
    "    B --> C[Trigger CI Pipeline]\n",
    "    C --> D[Run Tests]\n",
    "    D --> E{Tests Pass?}\n",
    "    E -- Yes --> F[Build Application]\n",
    "    F --> G[Deploy to Staging]\n",
    "    G --> H[Run Staging Tests]\n",
    "    H --> I{Staging Tests Pass?}\n",
    "    I -- Yes --> J[Deploy to Production]\n",
    "    I -- No --> K[Rollback Changes]\n",
    "    E -- No --> L[Send Feedback to Developer]\n",
    "```"
   ]
  },
  {
   "cell_type": "markdown",
   "metadata": {
    "slideshow": {
     "slide_type": "slide"
    }
   },
   "source": [
    "## Continuous integration\n",
    "\n",
    ">CI is a software engineering practice that continually merges artifacts, including source code updates from all members of a team, into a shared mainline <...>.\n",
    "\n",
    "In practice this means merging your changes into the main branch frequently and consistently."
   ]
  },
  {
   "cell_type": "markdown",
   "metadata": {
    "slideshow": {
     "slide_type": "slide"
    }
   },
   "source": [
    "CI depends on automation in order to integrated fast and quick.\n",
    "\n",
    "Examples of automated pipelines steps:\n",
    "- Building the program,\n",
    "- Running units tests,\n",
    "- Running integration tests,\n",
    "- Linting,\n",
    "- Static code analysis."
   ]
  },
  {
   "cell_type": "markdown",
   "metadata": {
    "slideshow": {
     "slide_type": "slide"
    }
   },
   "source": [
    "## Continuous delivery/deployment\n",
    "\n",
    "CD abbreviation can have 2 meanings:\n",
    "- Continuous delivery, and\n",
    "- Continuous deployment."
   ]
  },
  {
   "cell_type": "markdown",
   "metadata": {
    "slideshow": {
     "slide_type": "slide"
    }
   },
   "source": [
    "According to SWEBOK they have different meanings:\n",
    "\n",
    "Continuous delivery is:\n",
    "> <..>  a software engineering practice that uses automated tools to provide frequent releases of new  systems (including software) to staging or various test environments. CD continuously assembles the latest code and configuration from the head into release candidates.\n",
    "\n",
    "Continuous integration is:\n",
    "> <...> an automated process of deploying changes to production by verifying intended features and validations to reduce risk. Jez Humble and David Farley [8] pointed out that “[t]he biggest risk to any software effort is that you end up building something that isn’t useful. The earlier and more frequently you get working software in front of real users, the quicker you get feedback to find out how valuable it really is.”"
   ]
  },
  {
   "cell_type": "markdown",
   "metadata": {
    "slideshow": {
     "slide_type": "slide"
    }
   },
   "source": [
    "## GitHub actions example\n",
    "\n",
    "GitHub actions allows to run containerized workflows against the code repository.\n",
    "\n",
    "They can be found in the repository in the \"Actions\" tab. Users get certain amount of free actions minutes every month.\n",
    "\n",
    "Actions are located in `.github/workflows` directory and they are described in `.yml` format."
   ]
  },
  {
   "cell_type": "markdown",
   "metadata": {
    "slideshow": {
     "slide_type": "slide"
    }
   },
   "source": [
    "For this example we want to build a pipeline that will:\n",
    "1. Whenever PR is raised make sure that the code builds.\n",
    "2. Run the tests.\n",
    "3. Report % code coverage back to PR."
   ]
  },
  {
   "cell_type": "markdown",
   "metadata": {
    "slideshow": {
     "slide_type": "slide"
    }
   },
   "source": [
    "### Building the code\n",
    "\n",
    "To make sure the code build, it is only needed to run `dotnet build` at the correct solution and make sure that the process exists with the success status code. Conveniently GH Actions automatically fails the build step if the process call exists with error."
   ]
  },
  {
   "cell_type": "markdown",
   "metadata": {
    "slideshow": {
     "slide_type": "slide"
    }
   },
   "source": [
    "Create a file named: `build-and-test.yml` inside the `.github/workflows` directory.\n",
    "\n",
    "```yaml\n",
    "name: Build and test PRs\n",
    "\n",
    "on:\n",
    "  pull_request:\n",
    "    branches:\n",
    "      - main\n",
    "\n",
    "jobs:\n",
    "  build-and-deploy:\n",
    "    name: Build and test\n",
    "    runs-on: ubuntu-latest\n",
    "\n",
    "    steps:\n",
    "      - name: Checkout code\n",
    "        uses: actions/checkout@v3\n",
    "\n",
    "      - name: Setup .NET\n",
    "        uses: actions/setup-dotnet@v3\n",
    "        with:\n",
    "          dotnet-version: '8.x'\n",
    "\n",
    "      - name: Build solution\n",
    "        run: dotnet build\n",
    "```\n",
    "\n",
    "When this is done. Open the PR to the `main` branch to test this; the action should start after the PR is opened."
   ]
  },
  {
   "cell_type": "markdown",
   "metadata": {
    "slideshow": {
     "slide_type": "slide"
    }
   },
   "source": [
    "### Test\n",
    "\n",
    "To test the solution, it suffices to add a single step to the existing job:\n",
    "\n",
    "```yaml\n",
    "      - name: Test solution\n",
    "        run: dotnet test\n",
    "```"
   ]
  },
  {
   "cell_type": "markdown",
   "metadata": {
    "slideshow": {
     "slide_type": "slide"
    }
   },
   "source": [
    "### Report coverage\n",
    "\n",
    "To report code coverage 2 things needs to be done:\n",
    "1. Update test projects to start reporting coverage.\n",
    "2. Report the coverage back to PR."
   ]
  },
  {
   "cell_type": "markdown",
   "metadata": {
    "slideshow": {
     "slide_type": "slide"
    }
   },
   "source": [
    "!This assumes `xUnit` is used for testing!\n",
    "\n",
    "To start reporting coverage from test projects, we need to add `coverlet.collector` package to each test project.\n",
    "\n",
    "This can be done by running the following command on the projects:  \n",
    "`dotnet add package coverlet.collector`."
   ]
  },
  {
   "cell_type": "markdown",
   "metadata": {
    "slideshow": {
     "slide_type": "slide"
    }
   },
   "source": [
    "Replace the test step with the following:\n",
    "\n",
    "```yaml\n",
    "    - name: Run tests and report coverage\n",
    "      run: dotnet test --collect:\"XPlat Code Coverage\" --results-directory ./TestResults\n",
    "\n",
    "    - name: Install dotnet coverage tool\n",
    "      run:  dotnet tool install --global dotnet-coverage\n",
    "    \n",
    "    - name: Merge results from all test projects into 1 file\n",
    "      run: dotnet-coverage merge TestResults/**/coverage.cobertura.xml --recursive --output unified.cobertura.xml --output-format cobertura\n",
    "\n",
    "    - name: Generate report on code coverage\n",
    "      uses: irongut/CodeCoverageSummary@v1.3.0\n",
    "      with:\n",
    "        filename: unified.cobertura.xml\n",
    "        badge: true\n",
    "        fail_below_min: false\n",
    "        format: markdown\n",
    "        hide_branch_rate: false\n",
    "        hide_complexity: false\n",
    "        indicators: false\n",
    "        output: both\n",
    "        thresholds: '60 80'\n",
    "\n",
    "    - name: Report code coverage to PR\n",
    "      uses: marocchino/sticky-pull-request-comment@v2\n",
    "      with:\n",
    "        recreate: true\n",
    "        path: code-coverage-results.md\n",
    "```\n",
    "\n",
    "Reporting will require additionally to give more permissions for actions in the github repository. Go to Settings -> Actions -> Workflow permission -> Select \"Read and write permissions\"."
   ]
  },
  {
   "cell_type": "markdown",
   "metadata": {
    "slideshow": {
     "slide_type": "slide"
    }
   },
   "source": [
    "## Further reading\n",
    "\n",
    "- SWEBOK Chaper 06: Software Engineering Operations."
   ]
  }
 ],
 "metadata": {
  "kernelspec": {
   "display_name": ".NET (C#)",
   "language": "C#",
   "name": ".net-csharp"
  },
  "language_info": {
   "name": "polyglot-notebook"
  },
  "polyglot_notebook": {
   "kernelInfo": {
    "defaultKernelName": "csharp",
    "items": [
     {
      "aliases": [],
      "languageName": "csharp",
      "name": "csharp"
     }
    ]
   }
  }
 },
 "nbformat": 4,
 "nbformat_minor": 2
}
