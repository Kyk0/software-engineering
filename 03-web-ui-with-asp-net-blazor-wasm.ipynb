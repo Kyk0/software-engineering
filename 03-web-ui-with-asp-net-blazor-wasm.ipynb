{
 "cells": [
  {
   "cell_type": "markdown",
   "metadata": {},
   "source": [
    "# Creating Web UI with ASP.NET Blazor WASM\n",
    "\n",
    "Purpose of this section is not to make the reader proficient in ASP.NET Blazor, but rather to provide the basic information needed to start building client side rendered web apps."
   ]
  },
  {
   "cell_type": "markdown",
   "metadata": {},
   "source": [
    "The overarching goal is rather to teach ***how to learn*** to work with the Web UI frameworks. How to pick up pieces of relevant information when quick solutions are needed, and how to assemble them into some working MVP. Then, when the situation arises - dive deeper and go through the additional learning material to get the more comprehensive understanding level of the technology. Think of this as an applied learning approach.\n",
    "\n",
    "This notebook will focus on using Blazor to create web UIs, although there are other legitimate choices available."
   ]
  },
  {
   "cell_type": "markdown",
   "metadata": {},
   "source": [
    "## Blazor"
   ]
  },
  {
   "cell_type": "markdown",
   "metadata": {},
   "source": [
    "## Create Blazor project\n",
    "\n",
    "`dotnet new blazor -n <project name>`\n",
    "\n",
    "This will result in directory with the name of `<project name>` created. This directory will have the following structure:\n",
    "\n",
    "- `Components`\n",
    "- `Properties`\n",
    "- `wwwroot`\n",
    "- `appsettings.Development.json`\n",
    "- `appsettings.json`\n",
    "- `Program.cs`\n",
    "- `<project name>.csproj`\n",
    "- `<project name>.sln`"
   ]
  },
  {
   "cell_type": "markdown",
   "metadata": {},
   "source": []
  },
  {
   "cell_type": "markdown",
   "metadata": {},
   "source": [
    "### Rendering static data\n"
   ]
  },
  {
   "cell_type": "markdown",
   "metadata": {},
   "source": [
    "### Creating a page"
   ]
  },
  {
   "cell_type": "markdown",
   "metadata": {},
   "source": [
    "### Navigating between pages"
   ]
  },
  {
   "cell_type": "markdown",
   "metadata": {},
   "source": [
    "### Blazor Components"
   ]
  },
  {
   "cell_type": "markdown",
   "metadata": {},
   "source": [
    "### Rendering dynamic data"
   ]
  },
  {
   "cell_type": "markdown",
   "metadata": {},
   "source": [
    "### Calling an API"
   ]
  },
  {
   "cell_type": "markdown",
   "metadata": {},
   "source": [
    "#### CORS"
   ]
  },
  {
   "cell_type": "markdown",
   "metadata": {},
   "source": [
    "### Forms\n"
   ]
  }
 ],
 "metadata": {
  "kernelspec": {
   "display_name": ".NET (C#)",
   "language": "C#",
   "name": ".net-csharp"
  },
  "polyglot_notebook": {
   "kernelInfo": {
    "defaultKernelName": "csharp",
    "items": [
     {
      "aliases": [],
      "languageName": "csharp",
      "name": "csharp"
     }
    ]
   }
  }
 },
 "nbformat": 4,
 "nbformat_minor": 2
}
