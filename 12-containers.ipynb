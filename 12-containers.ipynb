{
 "cells": [
  {
   "cell_type": "markdown",
   "metadata": {
    "slideshow": {
     "slide_type": "slide"
    }
   },
   "source": [
    "# Containers\n",
    "\n",
    "Containers allows running application in a specially isolated environments, where dependencies can be managed as a part of container configuration."
   ]
  },
  {
   "cell_type": "markdown",
   "metadata": {
    "slideshow": {
     "slide_type": "slide"
    }
   },
   "source": [
    "Containers can simplify dealing with such dependencies as:\n",
    "- Operating System. I.e. what OS the binaries are built to run on.\n",
    "- Networking configuration. I.e. which program uses which ports, what files from file system uses and so on.\n",
    "- System packages. I.e. tools like `git`, various build tools, or libs like `openssl`."
   ]
  },
  {
   "cell_type": "markdown",
   "metadata": {
    "slideshow": {
     "slide_type": "slide"
    }
   },
   "source": [
    "Code is built into *container images*.  \n",
    "Container images are pushed to *registries*.  \n",
    "When container engine runs an image it becomes simply *container*.\n",
    "\n",
    "Naturally, because the names are very similar, in day to day usage these terms are used interchangeably and their meaning is derived largely from the context."
   ]
  },
  {
   "cell_type": "markdown",
   "metadata": {
    "slideshow": {
     "slide_type": "slide"
    }
   },
   "source": [
    "## Using containers for deployment\n",
    "\n",
    "```mermaid\n",
    "graph TD\n",
    "    subgraph Local_Development[\"Local environment\"]\n",
    "        Developer\n",
    "        IDE[\"Code Editor/IDE\"]\n",
    "        DockerDesktop[\"Docker Desktop\"]\n",
    "        Minikube\n",
    "    end\n",
    "\n",
    "    subgraph CI_CD_Pipeline[\"CI/CD Pipeline\"]\n",
    "        GitRepo[\"Git Repository (GitHub/GitLab)\"]\n",
    "        CI_CD[\"CI/CD Tool (GitHub Actions/GitLab CI)\"]\n",
    "        ContainerRegistry[\"Container Registry (Docker Hub/ECR)\"]\n",
    "    end\n",
    "\n",
    "    subgraph Cloud_Deployment[\"Cloud\"]\n",
    "        CloudProvider[\"Cloud Provider (AWS/Azure/GCP)\"]\n",
    "        K8sCluster[\"Kubernetes Cluster (EKS/AKS/GKE)\"]\n",
    "    end\n",
    "\n",
    "    Developer --> IDE\n",
    "    IDE --> DockerDesktop\n",
    "    IDE --> Minikube\n",
    "    DockerDesktop -->|Builds & runs containers| Developer\n",
    "    Minikube -->|Runs Kubernetes locally| Developer\n",
    "\n",
    "    IDE -->|Commits code to| GitRepo\n",
    "    GitRepo --> CI_CD\n",
    "    CI_CD -->|Builds container image| ContainerRegistry\n",
    "    CI_CD -->|Deploys to| K8sCluster\n",
    "    K8sCluster -->|Runs on| CloudProvider\n",
    "    K8sCluster -->|Pulls images from| ContainerRegistry\n",
    "\n",
    "    Developer -->|Monitors deployment via| K8sCluster\n",
    "```"
   ]
  },
  {
   "cell_type": "markdown",
   "metadata": {
    "slideshow": {
     "slide_type": "subslide"
    }
   },
   "source": [
    "To run containers locally you will need to install containerization software on your machine. Popular choice for this is Docker Desktop."
   ]
  },
  {
   "cell_type": "markdown",
   "metadata": {
    "slideshow": {
     "slide_type": "slide"
    }
   },
   "source": [
    "## Containerizing ASP.NET application\n",
    "\n",
    "Sample `Dockerfile` that can be used for ASP.NET application:\n",
    "\n",
    "```Dockerfile\n",
    "FROM mcr.microsoft.com/dotnet/sdk:8.0 AS build-env\n",
    "WORKDIR /App\n",
    "\n",
    "# Copy everything\n",
    "COPY . ./\n",
    "# Restore as distinct layers\n",
    "RUN dotnet restore\n",
    "# Build and publish a release\n",
    "RUN dotnet publish -c Release -o out\n",
    "\n",
    "# Build runtime image\n",
    "FROM mcr.microsoft.com/dotnet/aspnet:8.0\n",
    "WORKDIR /App\n",
    "COPY --from=build-env /App/out .\n",
    "\n",
    "EXPOSE 80\n",
    "\n",
    "ENTRYPOINT [\"dotnet\", \"<assembly to run>.dll\"]\n",
    "```"
   ]
  },
  {
   "cell_type": "markdown",
   "metadata": {
    "slideshow": {
     "slide_type": "slide"
    }
   },
   "source": [
    "`grader` will be the tag of an image and is use throughout the example.\n",
    "\n",
    "Build an image from the `Dockerfile`:\n",
    "\n",
    "```sh\n",
    "docker build -t grader .\n",
    "```\n",
    "\n",
    "Run the image:\n",
    "```sh\n",
    "docker run -p [host_port]:[container_port] grader\n",
    "```\n",
    "\n",
    "Run and set environment variable:\n",
    "```sh\n",
    "docker run -e VARIABLE_NAME=variable_value grader\n",
    "```"
   ]
  }
 ],
 "metadata": {
  "language_info": {
   "name": "csharp"
  }
 },
 "nbformat": 4,
 "nbformat_minor": 2
}
