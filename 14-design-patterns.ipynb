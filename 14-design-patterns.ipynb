{
 "cells": [
  {
   "cell_type": "markdown",
   "metadata": {
    "slideshow": {
     "slide_type": "slide"
    }
   },
   "source": [
    "# Design patterns\n",
    "\n",
    "Design patterns are reusable solutions to solve common problems.\n",
    "\n",
    "Point is that there **common problem** in programming, and because they are common enough, there are some **common patterns** created to solve these problems."
   ]
  },
  {
   "cell_type": "markdown",
   "metadata": {
    "slideshow": {
     "slide_type": "subslide"
    }
   },
   "source": [
    "## Why use design patterns?\n",
    "\n",
    "- Helps to communicate the problem that is being solved.\n",
    "- Code structure can be inferred only from the name."
   ]
  },
  {
   "cell_type": "markdown",
   "metadata": {
    "slideshow": {
     "slide_type": "subslide"
    }
   },
   "source": [
    "## Problems of using design patterns\n",
    "\n",
    "- Misapplication.\n",
    "- Unnecessary complexity."
   ]
  },
  {
   "cell_type": "markdown",
   "metadata": {
    "slideshow": {
     "slide_type": "subslide"
    }
   },
   "source": [
    "Patterns are commonly divided into 3 broad categories. However there are no definitive guidelines for what makes a pattern fall into one and not the other category.\n",
    "\n",
    "```mermaid\n",
    "flowchart TD\n",
    "    A[Design Patterns] --> B[Creational Patterns]\n",
    "    A --> C[Structural Patterns]\n",
    "    A --> D[Behavioral Patterns]\n",
    "\n",
    "    %% Patterns\n",
    "    B --> B1[Builder]\n",
    "    C --> C1[Proxy]\n",
    "    C --> C2[Repository]\n",
    "    D --> D1[Specification]\n",
    "    D --> D2[Strategy]\n",
    "    D --> D3[Singleton]\n",
    "```"
   ]
  },
  {
   "cell_type": "markdown",
   "metadata": {
    "slideshow": {
     "slide_type": "slide"
    }
   },
   "source": [
    "## Strategy\n",
    "\n",
    "Most use Strategy pattern intuitively without even actively thinking that they are using a design pattern. Turns out creating an abstraction (an interface) and then deciding which implementation for an interface to use is a design pattern, - a *strategy* pattern."
   ]
  },
  {
   "cell_type": "markdown",
   "metadata": {
    "slideshow": {
     "slide_type": "subslide"
    }
   },
   "source": [
    "```mermaid\n",
    "classDiagram\n",
    "    class JourneyPlanner {\n",
    "        + void SetRouteSearchStrategy(IRouteSearchStrategy strategy)\n",
    "        + void PlanJourney(string start, string end)\n",
    "    }\n",
    "\n",
    "    class IRouteSearchStrategy {\n",
    "        <<interface>>\n",
    "        + void SearchRoute(string start, string end)\n",
    "    }\n",
    "\n",
    "    class ShortestPathSearch {\n",
    "        + void SearchRoute(string start, string end)\n",
    "    }\n",
    "\n",
    "    class FastestPathSearch {\n",
    "        + void SearchRoute(string start, string end)\n",
    "    }\n",
    "\n",
    "    class ScenicPathSearch {\n",
    "        + void SearchRoute(string start, string end)\n",
    "    }\n",
    "\n",
    "    JourneyPlanner --> IRouteSearchStrategy : Uses\n",
    "    IRouteSearchStrategy <|-- ShortestPathSearch : Implements\n",
    "    IRouteSearchStrategy <|-- FastestPathSearch : Implements\n",
    "    IRouteSearchStrategy <|-- ScenicPathSearch : Implements\n",
    "\n",
    "```"
   ]
  },
  {
   "cell_type": "markdown",
   "metadata": {
    "slideshow": {
     "slide_type": "subslide"
    }
   },
   "source": [
    "To illustrate it with code, let's consider the example from the diagram above: \n",
    "- We have a class responsible for \"journey planning\". It is basically a class that can plan a trip, but it is not only finding a path between 2 points, but can also be about adding some additional information about the journey, like disruptions, tolls, etc.\n",
    "- Path between 2 points can be found in many different ways, but optimizing for different criteria.\n",
    "- Depending on the purpose of the journey we are planning, we might want to prioritize different criteria. I.e. if we are planning leisurely bike ride, then we might want to avoid busy and polluted roads. However if we just need to get somewhere ASAP, then the shortest path might be the best option."
   ]
  },
  {
   "cell_type": "code",
   "execution_count": null,
   "metadata": {
    "dotnet_interactive": {
     "language": "csharp"
    },
    "polyglot_notebook": {
     "kernelName": "csharp"
    },
    "slideshow": {
     "slide_type": "subslide"
    }
   },
   "outputs": [],
   "source": [
    "interface IRouteSearchStrategy\n",
    "{\n",
    "    IEnumerable<string> SearchRoute(string start, string end);\n",
    "}\n",
    "\n",
    "class JourneyPlanner\n",
    "{\n",
    "    // Won't be able to initialize an object without setting the RouteSearchStrategy\n",
    "    // but it can be changed later\n",
    "    public required IRouteSearchStrategy RouteSearchStrategy { get; set; }\n",
    "\n",
    "    public IEnumerable<string> PlanJourney(string from, string to)\n",
    "    {\n",
    "        return RouteSearchStrategy.SearchRoute(from, to);\n",
    "    }\n",
    "}"
   ]
  },
  {
   "cell_type": "code",
   "execution_count": null,
   "metadata": {
    "dotnet_interactive": {
     "language": "csharp"
    },
    "polyglot_notebook": {
     "kernelName": "csharp"
    },
    "slideshow": {
     "slide_type": "subslide"
    }
   },
   "outputs": [],
   "source": [
    "class ShortestPathStrategy : IRouteSearchStrategy\n",
    "{\n",
    "    public IEnumerable<string> SearchRoute(string start, string end)\n",
    "    {\n",
    "        return new[] { start, end };\n",
    "    }\n",
    "}\n",
    "\n",
    "class FastestPathStrategy : IRouteSearchStrategy\n",
    "{\n",
    "    public IEnumerable<string> SearchRoute(string start, string end)\n",
    "    {\n",
    "        return new[] { start, end };\n",
    "    }\n",
    "}"
   ]
  },
  {
   "cell_type": "code",
   "execution_count": null,
   "metadata": {
    "dotnet_interactive": {
     "language": "csharp"
    },
    "polyglot_notebook": {
     "kernelName": "csharp"
    },
    "slideshow": {
     "slide_type": "subslide"
    }
   },
   "outputs": [],
   "source": [
    "var journeyPlanner = new JourneyPlanner\n",
    "{\n",
    "    RouteSearchStrategy = new ShortestPathStrategy()\n",
    "};\n",
    "\n",
    "var shortWalkJourney = journeyPlanner.PlanJourney(\"A\", \"B\");\n",
    "\n",
    "journeyPlanner.RouteSearchStrategy = new FastestPathStrategy();\n",
    "\n",
    "var fastDriverJourney = journeyPlanner.PlanJourney(\"A\", \"B\");"
   ]
  },
  {
   "cell_type": "markdown",
   "metadata": {
    "slideshow": {
     "slide_type": "slide"
    }
   },
   "source": [
    "## Singleton\n",
    "\n",
    "Singleton pattern is used to ensure that only a single instance of the class is ever used."
   ]
  },
  {
   "cell_type": "code",
   "execution_count": null,
   "metadata": {
    "dotnet_interactive": {
     "language": "csharp"
    },
    "polyglot_notebook": {
     "kernelName": "csharp"
    },
    "slideshow": {
     "slide_type": "subslide"
    }
   },
   "outputs": [],
   "source": [
    "public class JourneyPlanner\n",
    "{\n",
    "    private JourneyPlanner() { }\n",
    "\n",
    "    private static JourneyPlanner _instance;\n",
    "    public static JourneyPlanner Instance\n",
    "    { \n",
    "        get \n",
    "        {\n",
    "            if (_instance == null)\n",
    "            {\n",
    "                _instance = new JourneyPlanner();\n",
    "            }\n",
    "\n",
    "            return _instance;\n",
    "        }\n",
    "    }\n",
    "}"
   ]
  },
  {
   "cell_type": "code",
   "execution_count": null,
   "metadata": {
    "dotnet_interactive": {
     "language": "csharp"
    },
    "polyglot_notebook": {
     "kernelName": "csharp"
    },
    "slideshow": {
     "slide_type": "subslide"
    }
   },
   "outputs": [],
   "source": [
    "// Using some ingenuity, we can make the generic wrapper for Singleton\n",
    "\n",
    "// Although it is one of those cases where the added benefit is questionable\n",
    "// but the added complexity is more obvious\n",
    "\n",
    "public class Singleton<T>\n",
    "{\n",
    "    private Singleton() { }\n",
    "\n",
    "    private static T _instance;\n",
    "    public static T Instance\n",
    "    { \n",
    "        get \n",
    "        {\n",
    "            if (_instance == null)\n",
    "            {\n",
    "                _instance = Activator.CreateInstance<T>();\n",
    "            }\n",
    "\n",
    "            return _instance;\n",
    "        }\n",
    "    }\n",
    "}"
   ]
  },
  {
   "cell_type": "code",
   "execution_count": null,
   "metadata": {
    "slideshow": {
     "slide_type": "skip"
    }
   },
   "outputs": [],
   "source": [
    "// Hack so the next cell would work\n",
    "dynamic builder = new System.Dynamic.ExpandoObject();\n",
    "builder.Services = new System.Dynamic.ExpandoObject();\n",
    "delegate void AddSingletonDelegate<T1, T2> ();\n",
    "AddSingletonDelegate<object, object> addSingleton = () => {};\n",
    "builder.Services.AddSingleton = addSingleton;\n",
    "\n",
    "public interface IService\n",
    "{\n",
    "    bool LogicMethod();\n",
    "}\n",
    "\n",
    "public class ServiceImplementation : IService\n",
    "{\n",
    "    public bool LogicMethod() => true;\n",
    "}"
   ]
  },
  {
   "cell_type": "code",
   "execution_count": null,
   "metadata": {
    "slideshow": {
     "slide_type": "subslide"
    }
   },
   "outputs": [],
   "source": [
    "// In practice there are not that many reasons to\n",
    "// be using Singleton pattern via static methods\n",
    "// when you have dependency injection available.\n",
    "\n",
    "builder.Services.AddSingleton<IService, ServiceImplementation>();"
   ]
  },
  {
   "cell_type": "code",
   "execution_count": null,
   "metadata": {
    "slideshow": {
     "slide_type": "subslide"
    }
   },
   "outputs": [],
   "source": [
    "// This way code remains more easily testable\n",
    "\n",
    "public class FakeTestImplementation : IService\n",
    "{\n",
    "    public bool LogicMethod() => false;\n",
    "}"
   ]
  },
  {
   "cell_type": "markdown",
   "metadata": {
    "slideshow": {
     "slide_type": "slide"
    }
   },
   "source": [
    "## Proxy\n",
    "\n",
    "Proxy pattern is used when you need to crete some intermediate between the caller and the real object.\n",
    "\n",
    "Instead of relation call chain being `A -> B`, it is changed to `A -> Proxy of B -> B`. In this case `Proxy of B` implements the interface of `B`, so the proxy usage is seamless."
   ]
  },
  {
   "cell_type": "markdown",
   "metadata": {
    "slideshow": {
     "slide_type": "subslide"
    }
   },
   "source": [
    "```mermaid\n",
    "classDiagram\n",
    "    class IStudentsService {\n",
    "        <<interface>>\n",
    "        + List~Student~ GetStudents()\n",
    "    }\n",
    "\n",
    "    class StudentsService {\n",
    "        + List~Student~ GetStudents()\n",
    "    }\n",
    "\n",
    "    class StudentsServiceProxy {\n",
    "        - IStudentsService realService\n",
    "        - List~Student~ cache\n",
    "        + List~Student~ GetStudents()\n",
    "    }\n",
    "\n",
    "    IStudentsService <|-- StudentsService : Implements\n",
    "    IStudentsService <|-- StudentsServiceProxy : Implements\n",
    "    StudentsServiceProxy --> IStudentsService : Uses\n",
    "```"
   ]
  },
  {
   "cell_type": "code",
   "execution_count": null,
   "metadata": {
    "dotnet_interactive": {
     "language": "csharp"
    },
    "polyglot_notebook": {
     "kernelName": "csharp"
    },
    "slideshow": {
     "slide_type": "subslide"
    }
   },
   "outputs": [],
   "source": [
    "public class Student { }\n",
    "\n",
    "public interface IStudentsService\n",
    "{\n",
    "    List<Student> GetStudents();\n",
    "}\n",
    "\n",
    "public class StudentsService : IStudentsService\n",
    "{\n",
    "    public List<Student> GetStudents()\n",
    "    {\n",
    "        // Imagine some expensive operation here to acquire the list of students\n",
    "        return new List<Student>();\n",
    "    }\n",
    "}\n",
    "\n",
    "// Now the class would be used like this\n",
    "IStudentsService studentsService = new StudentsService();\n",
    "var students = studentsService.GetStudents();"
   ]
  },
  {
   "cell_type": "code",
   "execution_count": null,
   "metadata": {
    "dotnet_interactive": {
     "language": "csharp"
    },
    "polyglot_notebook": {
     "kernelName": "csharp"
    },
    "slideshow": {
     "slide_type": "subslide"
    }
   },
   "outputs": [],
   "source": [
    "public class CachedStudentsServiceProxy : IStudentsService\n",
    "{\n",
    "    private readonly IStudentsService _studentsService;\n",
    "    private List<Student> _students;\n",
    "\n",
    "    public CachedStudentsServiceProxy(IStudentsService studentsService)\n",
    "    {\n",
    "        _studentsService = studentsService;\n",
    "    }\n",
    "\n",
    "    public List<Student> GetStudents()\n",
    "    {\n",
    "        if (_students == null)\n",
    "        {\n",
    "            _students = _studentsService.GetStudents();\n",
    "        }\n",
    "\n",
    "        return _students;\n",
    "    }\n",
    "}\n",
    "\n",
    "// Now the usage can be substituted with the proxy\n",
    "IStudentsService studentsService = new CachedStudentsServiceProxy(new StudentsService());\n",
    "var students = studentsService.GetStudents();"
   ]
  },
  {
   "cell_type": "markdown",
   "metadata": {
    "slideshow": {
     "slide_type": "slide"
    }
   },
   "source": [
    "## Repository\n",
    "\n",
    ">Mediates between the domain and data mapping layers using a collection-like interface for accessing domain objects.\n",
    "\n",
    "<sub>Source: https://martinfowler.com/eaaCatalog/repository.html.</sub>\n",
    "\n",
    "When you don't want to be mixing your domain logic with the access logic, then you introduce a repository in the middle to abstract that access to the away."
   ]
  },
  {
   "cell_type": "markdown",
   "metadata": {
    "slideshow": {
     "slide_type": "subslide"
    }
   },
   "source": [
    "```mermaid\n",
    "classDiagram\n",
    "    class IStudentRepository {\n",
    "        <<interface>>\n",
    "        + List<Student> GetAllStudents()\n",
    "        + void AddStudent(Student student)\n",
    "    }\n",
    "\n",
    "    class FileStudentRepository {\n",
    "        + List<Student> GetAllStudents()\n",
    "        + void AddStudent(Student student)\n",
    "    }\n",
    "\n",
    "    class DatabaseStudentRepository {\n",
    "        + List<Student> GetAllStudents()\n",
    "        + void AddStudent(Student student)\n",
    "    }\n",
    "\n",
    "    IStudentRepository <|.. FileStudentRepository : Implements\n",
    "    IStudentRepository <|.. DatabaseStudentRepository : Implements\n",
    "```"
   ]
  },
  {
   "cell_type": "code",
   "execution_count": null,
   "metadata": {
    "dotnet_interactive": {
     "language": "csharp"
    },
    "polyglot_notebook": {
     "kernelName": "csharp"
    },
    "slideshow": {
     "slide_type": "subslide"
    }
   },
   "outputs": [],
   "source": [
    "// Let's say in this example we have data access logic mixed in with the business logic\n",
    "using System.IO;\n",
    "\n",
    "public class StudentsGrader\n",
    "{\n",
    "    public int GetFinalGrade(string studentId)\n",
    "    {\n",
    "        var grades = File.ReadAllLines(\"grades.txt\");\n",
    "\n",
    "        // Fiddle with grades\n",
    "\n",
    "        return 0; // some carefully calculated final grade\n",
    "    }\n",
    "}\n",
    "\n",
    "// Now if we wanted to change storing of grades from file to database\n",
    "// we would have to change the StudentsGrader class, which is a bit inconvenient\n",
    "// since many classes might be using it as well."
   ]
  },
  {
   "cell_type": "code",
   "execution_count": null,
   "metadata": {
    "dotnet_interactive": {
     "language": "csharp"
    },
    "polyglot_notebook": {
     "kernelName": "csharp"
    },
    "slideshow": {
     "slide_type": "subslide"
    }
   },
   "outputs": [],
   "source": [
    "// Repository introduces an abstraction layer between the data access logic and the business logic\n",
    "// so only single place would have to be changed when switching data source.\n",
    "// It also can help with separation of concerns and testing.\n",
    "\n",
    "public interface IGradesRepository\n",
    "{\n",
    "    string[] GetGrades();\n",
    "}\n",
    "\n",
    "public class FileGradesRepository : IGradesRepository\n",
    "{\n",
    "    public string[] GetGrades()\n",
    "    {\n",
    "        return System.IO.File.ReadAllLines(\"grades.txt\");\n",
    "    }\n",
    "}\n",
    "\n",
    "public class StudentsGrader\n",
    "{\n",
    "    private readonly IGradesRepository _gradesRepository;\n",
    "\n",
    "    public StudentsGrader(IGradesRepository gradesRepository)\n",
    "    {\n",
    "        _gradesRepository = gradesRepository;\n",
    "    }\n",
    "\n",
    "    public int GetFinalGrade(string studentId)\n",
    "    {\n",
    "        var grades = _gradesRepository.GetGrades();\n",
    "\n",
    "        // Fiddle with grades\n",
    "\n",
    "        return 0; // some carefully calculated final grade\n",
    "    }\n",
    "}"
   ]
  },
  {
   "cell_type": "code",
   "execution_count": null,
   "metadata": {
    "dotnet_interactive": {
     "language": "csharp"
    },
    "polyglot_notebook": {
     "kernelName": "csharp"
    },
    "slideshow": {
     "slide_type": "subslide"
    }
   },
   "outputs": [],
   "source": [
    "// After adding the new repository, a single switch in DI container could suffice to change the data source\n",
    "\n",
    "public class DatabaseGradesRepository : IGradesRepository\n",
    "{\n",
    "    public string[] GetGrades()\n",
    "    {\n",
    "        // Connect to database and fetch grades\n",
    "        return new string[0];\n",
    "    }\n",
    "}"
   ]
  },
  {
   "cell_type": "markdown",
   "metadata": {
    "slideshow": {
     "slide_type": "slide"
    }
   },
   "source": [
    "## Specification\n",
    "\n",
    "There are cases when business logic is contained within a predicate that is used multiple places throughout the codebase. The more places the predicate is repeated in, the bigger the chance that some place might not be properly updated if the predicate logic needs to be updated.\n",
    "\n",
    "Specification pattern wraps the predicate with a type and allows to used a typed expression instead."
   ]
  },
  {
   "cell_type": "code",
   "execution_count": null,
   "metadata": {
    "dotnet_interactive": {
     "language": "csharp"
    },
    "polyglot_notebook": {
     "kernelName": "csharp"
    },
    "slideshow": {
     "slide_type": "subslide"
    }
   },
   "outputs": [],
   "source": [
    "// Specification pattern can be expressed as a simple interface\n",
    "\n",
    "public interface ISpecification<T>\n",
    "{\n",
    "    bool IsSatisfiedBy(T item);\n",
    "}"
   ]
  },
  {
   "cell_type": "code",
   "execution_count": null,
   "metadata": {
    "dotnet_interactive": {
     "language": "csharp"
    },
    "polyglot_notebook": {
     "kernelName": "csharp"
    },
    "slideshow": {
     "slide_type": "subslide"
    }
   },
   "outputs": [],
   "source": [
    "public class Grade\n",
    "{\n",
    "    public int Value { get; set; }\n",
    "}\n",
    "\n",
    "public class Student \n",
    "{\n",
    "    public string Id { get; set; }\n",
    "    public List<Grade> Grades { get; set; }\n",
    "}\n",
    "\n",
    "public class StudentGrader\n",
    "{\n",
    "    public List<Student> GetPassingStudents()\n",
    "    {\n",
    "        // Magically acquire list of all students from somewhere\n",
    "        var students = new List<Student>();\n",
    "\n",
    "        // Now all logic that describes if the student is passing is mixed in here\n",
    "        return students.Where(s => s.Grades.Count() > 4 && \n",
    "            s.Grades.Average(g => g.Value) > 3 && \n",
    "            s.Grades.MinBy(x => x.Value).Value > 1).ToList();\n",
    "    }\n",
    "}"
   ]
  },
  {
   "cell_type": "code",
   "execution_count": null,
   "metadata": {
    "dotnet_interactive": {
     "language": "csharp"
    },
    "polyglot_notebook": {
     "kernelName": "csharp"
    },
    "slideshow": {
     "slide_type": "subslide"
    }
   },
   "outputs": [],
   "source": [
    "// Predicate logic for passing student can be extracted into a specification\n",
    "public class PassingStudentSpecification : ISpecification<Student>\n",
    "{\n",
    "    public bool IsSatisfiedBy(Student student)\n",
    "    {\n",
    "        return student.Grades.Count() > 4 && \n",
    "            student.Grades.Average(g => g.Value) > 3 && \n",
    "            student.Grades.MinBy(x => x.Value).Value > 1;\n",
    "    }\n",
    "}"
   ]
  },
  {
   "cell_type": "code",
   "execution_count": null,
   "metadata": {
    "dotnet_interactive": {
     "language": "csharp"
    },
    "polyglot_notebook": {
     "kernelName": "csharp"
    },
    "slideshow": {
     "slide_type": "subslide"
    }
   },
   "outputs": [],
   "source": [
    "public class StudentGrader\n",
    "{\n",
    "    private readonly ISpecification<Student> _passingStudentSpecification;\n",
    "\n",
    "    public StudentGrader(ISpecification<Student> passingStudentSpecification)\n",
    "    {\n",
    "        _passingStudentSpecification = passingStudentSpecification;\n",
    "    }\n",
    "\n",
    "    public List<Student> GetPassingStudents()\n",
    "    {\n",
    "        // Magically acquire list of all students from somewhere\n",
    "        var students = new List<Student>();\n",
    "\n",
    "        // Inline predicate can be replaced with the specification\n",
    "        return students.Where(s => _passingStudentSpecification.IsSatisfiedBy(s)).ToList();\n",
    "    }\n",
    "}"
   ]
  },
  {
   "cell_type": "markdown",
   "metadata": {
    "slideshow": {
     "slide_type": "slide"
    }
   },
   "source": [
    "## Observer\n",
    "\n",
    "Observer is pattern about notifying listeners that something has happened. Observer pattern is otherwise known as \"PubSub\". Widely used for event based modeling.\n",
    "\n",
    "```mermaid\n",
    "classDiagram\n",
    "    class Publisher {\n",
    "        +subscribe(subscriber: Subscriber)\n",
    "        +unsubscribe(subscriber: Subscriber)\n",
    "        +notify()\n",
    "    }\n",
    "\n",
    "    class ConcretePublisher {\n",
    "        -state: int\n",
    "        +getState() int\n",
    "        +setState(state: int)\n",
    "    }\n",
    "\n",
    "    class Subscriber {\n",
    "        <<interface>>\n",
    "        +update()\n",
    "    }\n",
    "\n",
    "    class ConcreteSubscriber {\n",
    "        -subscriberState: int\n",
    "        +update()\n",
    "    }\n",
    "\n",
    "    Publisher <|-- ConcretePublisher\n",
    "    Subscriber <|.. ConcreteSubscriber\n",
    "\n",
    "    Publisher --> Subscriber : \"manages subscriptions to\"\n",
    "    ConcretePublisher --> ConcreteSubscriber : \"notifies subscribers\"\n",
    "```"
   ]
  },
  {
   "cell_type": "code",
   "execution_count": null,
   "metadata": {
    "dotnet_interactive": {
     "language": "csharp"
    },
    "polyglot_notebook": {
     "kernelName": "csharp"
    },
    "slideshow": {
     "slide_type": "subslide"
    }
   },
   "outputs": [],
   "source": [
    "interface ISubscriber\n",
    "{\n",
    "    void Notify(string message);\n",
    "}\n",
    "\n",
    "interface IPublisher\n",
    "{\n",
    "    void Subscribe(ISubscriber subscriber);\n",
    "}"
   ]
  },
  {
   "cell_type": "code",
   "execution_count": null,
   "metadata": {
    "dotnet_interactive": {
     "language": "csharp"
    },
    "polyglot_notebook": {
     "kernelName": "csharp"
    },
    "slideshow": {
     "slide_type": "subslide"
    }
   },
   "outputs": [],
   "source": [
    "class Button : IPublisher\n",
    "{\n",
    "    // Let's imagine UI click happens here\n",
    "    public void Click()\n",
    "    {\n",
    "        // Button logic\n",
    "\n",
    "        NotifySubscribers();\n",
    "    }\n",
    "\n",
    "    private List<ISubscriber> _subscribers = new List<ISubscriber>();\n",
    "\n",
    "    public void Subscribe(ISubscriber subscriber)\n",
    "    {\n",
    "        _subscribers.Add(subscriber);\n",
    "    }\n",
    "\n",
    "    private void NotifySubscribers()\n",
    "    {\n",
    "        foreach (var subscriber in _subscribers)\n",
    "        {\n",
    "            subscriber.Notify(\"Button clicked\");\n",
    "        }\n",
    "    }\n",
    "}"
   ]
  },
  {
   "cell_type": "code",
   "execution_count": null,
   "metadata": {
    "dotnet_interactive": {
     "language": "csharp"
    },
    "polyglot_notebook": {
     "kernelName": "csharp"
    },
    "slideshow": {
     "slide_type": "subslide"
    }
   },
   "outputs": [],
   "source": [
    "class EmailSender : ISubscriber\n",
    "{\n",
    "    public void Notify(string message)\n",
    "    {\n",
    "        Console.WriteLine(\"Sending email about: \" + message);\n",
    "    }\n",
    "}\n",
    "\n",
    "class MessageDisplayer : ISubscriber\n",
    "{\n",
    "    public void Notify(string message)\n",
    "    {\n",
    "        Console.WriteLine(\"Displaying message: \" + message);\n",
    "    }\n",
    "}"
   ]
  },
  {
   "cell_type": "code",
   "execution_count": null,
   "metadata": {
    "dotnet_interactive": {
     "language": "csharp"
    },
    "polyglot_notebook": {
     "kernelName": "csharp"
    },
    "slideshow": {
     "slide_type": "subslide"
    }
   },
   "outputs": [],
   "source": [
    "var button = new Button();\n",
    "var emailSender = new EmailSender();\n",
    "var messageDisplayer = new MessageDisplayer();\n",
    "\n",
    "button.Subscribe(emailSender);\n",
    "button.Subscribe(messageDisplayer);\n",
    "\n",
    "// Let's imagine user clicked the button\n",
    "button.Click();"
   ]
  },
  {
   "cell_type": "markdown",
   "metadata": {
    "slideshow": {
     "slide_type": "slide"
    }
   },
   "source": [
    "## Builder\n",
    "\n",
    "Builder pattern simplifies the construction of an object by providing shorthand methods for complicated parts of an object.\n",
    "\n",
    "For example instead of manually setting every single property of an object for specific case, a builder pattern can be used to add a part of setup of an object for some predefined common cases.\n",
    "\n",
    "Think of `Program` class of ASP.NET application, a `WebApplicationBuilder` is one of the first lines there, and it is a place Builder pattern is used to setup the logic your web application.\n",
    "\n",
    "Units tests are another good case where the builder pattern can be useful."
   ]
  },
  {
   "cell_type": "markdown",
   "metadata": {
    "slideshow": {
     "slide_type": "subslide"
    }
   },
   "source": [
    "```mermaid\n",
    "classDiagram\n",
    "    class Student {\n",
    "        + string Id\n",
    "        + double[] Grades\n",
    "    }\n",
    "\n",
    "    class StudentTestBuilder {\n",
    "        + StudentTestBuilder WithPassingGrades()\n",
    "        + StudentTestBuilder WithFailingGrades()\n",
    "        + StudentTestBuilder WithValidId()\n",
    "        + StudentTestBuilder WithInvalidId()\n",
    "        + Student Build()\n",
    "    }\n",
    "```"
   ]
  },
  {
   "cell_type": "code",
   "execution_count": null,
   "metadata": {
    "dotnet_interactive": {
     "language": "csharp"
    },
    "polyglot_notebook": {
     "kernelName": "csharp"
    },
    "slideshow": {
     "slide_type": "subslide"
    }
   },
   "outputs": [],
   "source": [
    "public class Student\n",
    "{\n",
    "    public string Id { get; set; }\n",
    "    public List<double> Grades { get; set; }\n",
    "}\n",
    "\n",
    "public class StudentGraderTests\n",
    "{\n",
    "    public void GetPassingStudents_GivenStudentWithPassingGrades_ReturnsIt(List<Student> students)\n",
    "    {\n",
    "        // Arrange\n",
    "        var passingStudent = new Student { Id = \"1\", Grades = new List<double> { 4, 4, 4, 4, 4 } };\n",
    "        students.Add(passingStudent);\n",
    "\n",
    "        var passingStudentSpecification = new PassingStudentSpecification();\n",
    "        var studentGrader = new StudentGrader(passingStudentSpecification);\n",
    "\n",
    "        // Act\n",
    "        var passingStudents = studentGrader.GetPassingStudents();\n",
    "\n",
    "        // Assert\n",
    "        // Assert.Contains(passingStudent, passingStudents);\n",
    "    }\n",
    "}"
   ]
  },
  {
   "cell_type": "code",
   "execution_count": null,
   "metadata": {
    "dotnet_interactive": {
     "language": "csharp"
    },
    "polyglot_notebook": {
     "kernelName": "csharp"
    },
    "slideshow": {
     "slide_type": "subslide"
    }
   },
   "outputs": [],
   "source": [
    "// Introducing a test builder in hopes to simplify the test setup\n",
    "public class StudentTestBuilder\n",
    "{\n",
    "    private List<double> _grades = new List<double> { 4, 4, 4, 4, 4 };\n",
    "\n",
    "    public StudentTestBuilder WithPassingGrades()\n",
    "    {\n",
    "        _grades = new List<double> { 4, 4, 4, 4, 4 };\n",
    "        return this;\n",
    "    }\n",
    "\n",
    "    public StudentTestBuilder WithFailingGrades()\n",
    "    {\n",
    "        _grades = new List<double> { 2, 2, 2, 2, 2 };\n",
    "        return this;\n",
    "    }\n",
    "\n",
    "    public Student Build()\n",
    "    {\n",
    "        return new Student { Id = \"123\", Grades = _grades };\n",
    "    }\n",
    "}"
   ]
  },
  {
   "cell_type": "code",
   "execution_count": null,
   "metadata": {
    "dotnet_interactive": {
     "language": "csharp"
    },
    "polyglot_notebook": {
     "kernelName": "csharp"
    },
    "slideshow": {
     "slide_type": "subslide"
    }
   },
   "outputs": [],
   "source": [
    "public class StudentGraderTests\n",
    "{\n",
    "    public void GetPassingStudents_GivenStudentWithPassingGrades_ReturnsIt(List<Student> students)\n",
    "    {\n",
    "        // Arrange\n",
    "        var passingStudent = new StudentTestBuilder().WithPassingGrades().Build();\n",
    "        students.Add(passingStudent);\n",
    "\n",
    "        var passingStudentSpecification = new PassingStudentSpecification();\n",
    "        var studentGrader = new StudentGrader(passingStudentSpecification);\n",
    "\n",
    "        // Act\n",
    "        var passingStudents = studentGrader.GetPassingStudents();\n",
    "\n",
    "        // Assert\n",
    "        // Assert.Contains(passingStudent, passingStudents);\n",
    "    }\n",
    "}"
   ]
  },
  {
   "cell_type": "markdown",
   "metadata": {
    "slideshow": {
     "slide_type": "slide"
    }
   },
   "source": [
    "## Exercises\n",
    "\n",
    "- Expand the `Specification` pattern so that it would return `Expression`, which could be used with Entity Framework, as well."
   ]
  },
  {
   "cell_type": "markdown",
   "metadata": {
    "slideshow": {
     "slide_type": "skip"
    }
   },
   "source": [
    "## References\n",
    "\n",
    "- https://refactoring.guru/design-patterns - nice catalog of design patterns."
   ]
  }
 ],
 "metadata": {
  "kernelspec": {
   "display_name": ".NET (C#)",
   "language": "C#",
   "name": ".net-csharp"
  },
  "language_info": {
   "name": "polyglot-notebook"
  },
  "polyglot_notebook": {
   "kernelInfo": {
    "defaultKernelName": "csharp",
    "items": [
     {
      "aliases": [],
      "languageName": "csharp",
      "name": "csharp"
     }
    ]
   }
  }
 },
 "nbformat": 4,
 "nbformat_minor": 2
}
