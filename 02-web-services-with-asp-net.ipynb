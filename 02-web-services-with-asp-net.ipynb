{
 "cells": [
  {
   "cell_type": "markdown",
   "metadata": {},
   "source": [
    "# Web Services in ASP.NET"
   ]
  },
  {
   "cell_type": "markdown",
   "metadata": {},
   "source": [
    "ASP.NET is a framework for development of web applications. Using ASP.NET (or similar other web frameworks) allows to quickly develop web applications by providing abstractions and helpers for common use cases. These use cases are like shorthands for writing HTTP methods handlers, helpers for serializing and deserializing HTTP requests to various formats, providing authorization middleware and more.\n",
    "\n",
    "When ASP.NET is mentioned here, it refers to ASP.NET Core, the open source framework, not to be mistaken with older ASP.NET based on .NET Framework 4.* and older.\n",
    "\n",
    "While ASP.NET allows building fully fledged web applications as well, this article will focus solely on APIs.\n",
    "\n",
    "[Trends of tags on stackoverflow.co](https://insights.stackoverflow.com/trends?tags=soap%2Crest%2Cgraphql%2Cgrpc)."
   ]
  },
  {
   "cell_type": "markdown",
   "metadata": {},
   "source": [
    "There are lots of great resources online that do better job of explaining how to use ASP.NET or other web frameworks. Goal of this article is to provide \"cheat sheet\" or a \"quick reference\" guide to quickly get started working with web services.\n",
    "\n",
    "Refer to the more extensive guides online at:\n",
    "- https://learn.microsoft.com/en-us/aspnet/core/fundamentals/minimal-apis\n",
    "- https://learn.microsoft.com/en-us/aspnet/mvc/overview/older-versions-1/controllers-and-routing/aspnet-mvc-controllers-overview-cs\n",
    "- https://www.apollographql.com/tutorials/intro-hotchocolate/03-hot-chocolate"
   ]
  },
  {
   "cell_type": "markdown",
   "metadata": {},
   "source": [
    "## ASP.NET Minimal API"
   ]
  },
  {
   "cell_type": "markdown",
   "metadata": {},
   "source": [
    "### Creating endpoint"
   ]
  },
  {
   "cell_type": "markdown",
   "metadata": {},
   "source": [
    "### Using route params"
   ]
  },
  {
   "cell_type": "markdown",
   "metadata": {},
   "source": [
    "### Using query params"
   ]
  },
  {
   "cell_type": "markdown",
   "metadata": {},
   "source": [
    "### Consuming request body"
   ]
  },
  {
   "cell_type": "markdown",
   "metadata": {},
   "source": [
    "### Changing serializer"
   ]
  },
  {
   "cell_type": "markdown",
   "metadata": {},
   "source": [
    "### Using dependency injection"
   ]
  },
  {
   "cell_type": "markdown",
   "metadata": {},
   "source": [
    "### Splitting endpoints into different files"
   ]
  },
  {
   "cell_type": "markdown",
   "metadata": {},
   "source": [
    "## ASP.NET API with Controllers"
   ]
  },
  {
   "cell_type": "markdown",
   "metadata": {},
   "source": [
    "### Dependency injection with Controllers"
   ]
  },
  {
   "cell_type": "markdown",
   "metadata": {},
   "source": [
    "### Attribute routing"
   ]
  },
  {
   "cell_type": "markdown",
   "metadata": {},
   "source": [
    "## GraphQL in ASP.NET"
   ]
  },
  {
   "cell_type": "markdown",
   "metadata": {},
   "source": [
    "### Creating query graphs and types"
   ]
  },
  {
   "cell_type": "markdown",
   "metadata": {},
   "source": [
    "### Creating mutations"
   ]
  },
  {
   "cell_type": "markdown",
   "metadata": {},
   "source": [
    "### Batch loading"
   ]
  }
 ],
 "metadata": {
  "language_info": {
   "name": "csharp"
  }
 },
 "nbformat": 4,
 "nbformat_minor": 2
}
